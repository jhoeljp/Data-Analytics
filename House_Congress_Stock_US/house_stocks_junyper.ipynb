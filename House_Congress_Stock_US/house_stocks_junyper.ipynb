{
 "cells": [
  {
   "cell_type": "code",
   "execution_count": 13,
   "metadata": {},
   "outputs": [],
   "source": [
    "#load dependencies\n",
    "import pandas as pd\n",
    "import os "
   ]
  },
  {
   "cell_type": "code",
   "execution_count": 14,
   "metadata": {},
   "outputs": [
    {
     "name": "stdout",
     "output_type": "stream",
     "text": [
      "              amount                                  asset_description  \\\n",
      "0   $1,001 - $15,000                                             BP plc   \n",
      "1   $1,001 - $15,000                            Exxon Mobil Corporation   \n",
      "2  $15,001 - $50,000  Industrial Logistics Properties Trust - Common...   \n",
      "\n",
      "   cap_gains_over_200_usd disclosure_date  disclosure_year district  owner  \\\n",
      "0                   False      10/04/2021             2021     NC05  joint   \n",
      "1                   False      10/04/2021             2021     NC05  joint   \n",
      "2                   False      10/04/2021             2021     NC05  joint   \n",
      "\n",
      "                                            ptr_link      representative  \\\n",
      "0  https://disclosures-clerk.house.gov/public_dis...  Hon. Virginia Foxx   \n",
      "1  https://disclosures-clerk.house.gov/public_dis...  Hon. Virginia Foxx   \n",
      "2  https://disclosures-clerk.house.gov/public_dis...  Hon. Virginia Foxx   \n",
      "\n",
      "  ticker transaction_date      type  \n",
      "0     BP       2021-09-27  purchase  \n",
      "1    XOM       2021-09-13  purchase  \n",
      "2   ILPT       2021-09-10  purchase  \n"
     ]
    }
   ],
   "source": [
    "#load dataset\n",
    "data = pd.read_csv(\"USA_Congress_Transactions_data.csv\")\n",
    "print(data.head(3))"
   ]
  },
  {
   "cell_type": "code",
   "execution_count": 15,
   "metadata": {},
   "outputs": [
    {
     "name": "stdout",
     "output_type": "stream",
     "text": [
      "Index(['amount', 'asset_description', 'cap_gains_over_200_usd',\n",
      "       'disclosure_date', 'disclosure_year', 'district', 'owner', 'ptr_link',\n",
      "       'representative', 'ticker', 'transaction_date', 'type'],\n",
      "      dtype='object')\n",
      "(15433, 12)\n"
     ]
    }
   ],
   "source": [
    "print(data.columns)\n",
    "print(data.shape)"
   ]
  },
  {
   "cell_type": "markdown",
   "metadata": {},
   "source": [
    "**Fix Columns and Stadarize Values**"
   ]
  },
  {
   "cell_type": "code",
   "execution_count": 16,
   "metadata": {},
   "outputs": [
    {
     "name": "stdout",
     "output_type": "stream",
     "text": [
      "['$1,001 - $15,000' '$15,001 - $50,000' '$50,001 - $100,000'\n",
      " '$100,001 - $250,000' '$1,001 -' '$250,001 - $500,000'\n",
      " '$500,001 - $1,000,000' '$5,000,001 - $25,000,000'\n",
      " '$1,000,001 - $5,000,000' '$1,000,000 +' '$1,000 - $15,000'\n",
      " '$15,000 - $50,000' '$50,000,000 +' '$1,000,000 - $5,000,000']\n"
     ]
    }
   ],
   "source": [
    "#Analyze uniqueness or rows \n",
    "print(data.amount.unique())"
   ]
  },
  {
   "cell_type": "markdown",
   "metadata": {},
   "source": [
    "There is values in the amount column starting with a 1 dollar difference\n",
    "'$1,000 - $15,000' and '$1,001 - $15,000' should be the same value \n",
    "lets fix for the difference across the entire column "
   ]
  },
  {
   "cell_type": "code",
   "execution_count": 17,
   "metadata": {},
   "outputs": [
    {
     "name": "stderr",
     "output_type": "stream",
     "text": [
      "C:\\Users\\jhoel\\AppData\\Local\\Temp\\ipykernel_14768\\2794293020.py:5: SettingWithCopyWarning: \n",
      "A value is trying to be set on a copy of a slice from a DataFrame\n",
      "\n",
      "See the caveats in the documentation: https://pandas.pydata.org/pandas-docs/stable/user_guide/indexing.html#returning-a-view-versus-a-copy\n",
      "  data['amount'][i] = list(data['amount'][i])\n",
      "C:\\Users\\jhoel\\AppData\\Local\\Temp\\ipykernel_14768\\2794293020.py:7: SettingWithCopyWarning: \n",
      "A value is trying to be set on a copy of a slice from a DataFrame\n",
      "\n",
      "See the caveats in the documentation: https://pandas.pydata.org/pandas-docs/stable/user_guide/indexing.html#returning-a-view-versus-a-copy\n",
      "  data['amount'][i] = ''.join(data['amount'][i])\n"
     ]
    }
   ],
   "source": [
    "#Fix amount column\n",
    "for i in range(0,len(data['amount'])):\n",
    "    index = data['amount'][i].find('01')\n",
    "    if index != -1:\n",
    "      data['amount'][i] = list(data['amount'][i])\n",
    "      data['amount'][i][index:index+2] = '00'\n",
    "      data['amount'][i] = ''.join(data['amount'][i])"
   ]
  },
  {
   "cell_type": "code",
   "execution_count": null,
   "metadata": {},
   "outputs": [
    {
     "name": "stdout",
     "output_type": "stream",
     "text": [
      "['$1,000 - $15,000' '$15,000 - $50,000' '$50,000 - $100,000'\n",
      " '$100,000 - $250,000' '$1,000 -' '$250,000 - $500,000'\n",
      " '$500,000 - $1,000,000' '$5,000,000 - $25,000,000'\n",
      " '$1,000,000 - $5,000,000' '$1,000,000 +' '$50,000,000 +']\n",
      "(15433, 12)\n"
     ]
    }
   ],
   "source": [
    "print(data.amount.unique())\n",
    "print(data.shape)"
   ]
  },
  {
   "cell_type": "code",
   "execution_count": null,
   "metadata": {},
   "outputs": [
    {
     "name": "stdout",
     "output_type": "stream",
     "text": [
      "(9521, 12)\n"
     ]
    }
   ],
   "source": [
    "#Delete rows with incomplete data \n",
    "data = data.dropna()\n",
    "print(data.shape)"
   ]
  },
  {
   "cell_type": "code",
   "execution_count": null,
   "metadata": {},
   "outputs": [
    {
     "data": {
      "text/plain": [
       "array(['NC05', 'CA47', 'VA04', 'NV03', 'AL05', 'TX10', 'WA01', 'MT00',\n",
       "       'OR03', 'KY01', 'FL21', 'RI02', 'UT03', 'AZ03', 'NJ05', 'MA05',\n",
       "       'WV01', 'CA12', 'TN09', 'VA11', 'NC04', 'NC06', 'CA52', 'FL17',\n",
       "       'VA08', 'PA05', 'TN03', 'PA16', 'IL03', 'TN07', 'VA01', 'MS03',\n",
       "       'TX17', 'CA17', 'TX35', 'NY06', 'GA12', 'MI12', 'OK04', 'FL02',\n",
       "       'CO05', 'IN01', 'FL16', 'GA14', 'CA06', 'MN03', 'VT00', 'NY08',\n",
       "       'CO07', 'CA19', 'TX11', 'FL18', 'IA03', 'OK01', 'IN03', 'MO02',\n",
       "       'MD08', 'FL15', 'IL10', 'WA08', 'MI06', 'OH16', 'CA39', 'CA53',\n",
       "       'KY03', 'TX03', 'FL23', 'CT02', 'PA03', 'SC07', 'OH07', 'TX26',\n",
       "       'KS01', 'ME01', 'NC02', 'FL12', 'NJ11', 'KS04', 'WI08', 'NJ06',\n",
       "       'NY27', 'MA06', 'FL14', 'IA01', 'ID02', 'TN01', 'OH05', 'MA03',\n",
       "       'AZ01', 'GA01', 'NC07', 'IL16', 'FL27', 'SC04', 'IL17', 'TX24',\n",
       "       'WV03', 'NY12', 'GA08', 'PA09', 'MD06', 'FL04', 'AR02', 'MA04',\n",
       "       'CA03', 'IN05', 'TN08', 'VA07', 'CA38', 'NY25', 'CA28', 'CA48',\n",
       "       'DC00', 'NJ09', 'VA02', 'FL25', 'OK05', 'TX32', 'KY04', 'MI03'],\n",
       "      dtype=object)"
      ]
     },
     "execution_count": 8,
     "metadata": {},
     "output_type": "execute_result"
    }
   ],
   "source": [
    "#Analysis distric, representative, and type \n",
    "data.district.unique()"
   ]
  },
  {
   "cell_type": "code",
   "execution_count": null,
   "metadata": {},
   "outputs": [
    {
     "data": {
      "text/plain": [
       "array(['Hon. Virginia Foxx', 'Hon. Alan S. Lowenthal',\n",
       "       'Hon. Aston Donald McEachin', 'Hon. Susie Lee', 'Hon. Mo Brooks',\n",
       "       'Hon. Michael T. McCaul', 'Hon. Suzan K. DelBene',\n",
       "       'Hon. Greg Gianforte', 'Hon. Earl Blumenauer', 'Hon. James Comer',\n",
       "       'Hon. Lois Frankel', 'Hon. James R. Langevin', 'Hon. John Curtis',\n",
       "       'Hon. Raúl M. Grijalva', 'Hon. Josh Gottheimer',\n",
       "       'Hon. Katherine M. Clark', 'Hon. David B. McKinley',\n",
       "       'Hon. Nancy Pelosi', 'Hon. Steve Cohen', 'Hon. Gerald E. Connolly',\n",
       "       'Hon. David E. Price', 'None Kathy Manning',\n",
       "       'Hon. Scott H. Peters', 'Hon. Greg Steube',\n",
       "       'Hon. Donald Sternoff Honorable Beyer', 'Hon. Mary Gay Scanlon',\n",
       "       'Hon. Charles J. \"Chuck\" Fleischmann', 'Hon. Mike Kelly',\n",
       "       'Hon. Marie Newman', 'Hon. Mark Dr Green',\n",
       "       'Hon. Robert J. Wittman', 'Hon. Michael Patrick Guest',\n",
       "       'Hon. Pete Sessions', 'Hon. Rohit Khanna', 'Hon. Lloyd Doggett',\n",
       "       'Hon. Grace Meng', 'Hon. Richard W. Allen', 'Hon. Debbie Dingell',\n",
       "       'Hon. Tom Cole', 'Hon. Neal Patrick MD, Facs Dunn',\n",
       "       'Hon. Doug Lamborn', 'Hon. Peter J. Visclosky',\n",
       "       'Hon. Vern Buchanan', 'Hon. Marjorie Taylor Greene',\n",
       "       'Hon. Doris O. Matsui', 'Hon. Dean Phillips', 'Hon. Peter Welch',\n",
       "       'Hon. Hakeem S. Jeffries', 'Hon. Ed Perlmutter',\n",
       "       'Hon. Zoe Lofgren', 'Hon. Donald Sternoff Beyer',\n",
       "       'Hon. August Lee Pfluger', 'Hon. Brian Mast', 'Hon. Kathy Manning',\n",
       "       'Hon. Cindy Axne', 'Hon. Kevin Hern',\n",
       "       'Hon. Neal Patrick MD, FACS Dunn', 'Hon. James E. Banks',\n",
       "       'Hon. Ann Wagner', 'Hon. Jamie Raskin', 'Hon. Scott Franklin',\n",
       "       'Hon. Bradley S. Schneider', 'Hon. Kim Dr Schrier',\n",
       "       'Hon. James E Hon Banks', 'Hon. Fred Upton',\n",
       "       'Hon. Anthony E. Gonzalez', 'Hon. Mark Green',\n",
       "       'Hon. Gilbert Cisneros', 'Hon. Susan A. Davis',\n",
       "       'Hon. K. Michael Conaway', 'Hon. John A. Yarmuth',\n",
       "       'Hon. Nicholas Van Taylor', 'Hon. Debbie Wasserman Schultz',\n",
       "       'Hon. Joe Courtney', 'Hon. Dwight Evans', 'Hon. Tom Rice',\n",
       "       'Hon. Bob Gibbs', 'Hon. Michael C. Burgess',\n",
       "       'Hon. Roger W. Marshall', 'Hon. Kim Schrier',\n",
       "       'Hon. Chellie Pingree', 'Hon. Deborah K. Ross',\n",
       "       'Hon. W. Greg Steube', 'Hon. Gus M. Bilirakis',\n",
       "       'Hon. Mikie Sherrill', 'Hon. Ron Estes',\n",
       "       'Hon. Michael John Gallagher', 'Hon. Frank Pallone',\n",
       "       'Hon. Christopher L. Jacobs', 'Hon. Seth Moulton',\n",
       "       'Hon. Kathy Castor', 'None Ashley Hinson Arenholz',\n",
       "       'Hon. Michael K. Simpson', 'Hon. Diana Harshbarger',\n",
       "       'Hon. Robert E. Latta', 'Hon. Lori Trahan', \"Hon. Tom O'Halleran\",\n",
       "       'Hon. Earl Leroy Carter', 'Hon. Neal Patrick Dunn MD, FACS',\n",
       "       'Hon. David Cheston Rouzer', 'Hon. Adam Kinzinger',\n",
       "       'Hon. Donna Shalala', 'Hon. William R. Timmons',\n",
       "       'Hon. Cheri Bustos', 'Hon. Kenny Marchant',\n",
       "       'Hon. Carol Devine Miller', 'Hon. Carolyn B. Maloney',\n",
       "       'Hon. Austin Scott', 'Hon. Daniel Meuser', 'Hon. David Trone',\n",
       "       'Hon. John Rutherford', 'None Deborah K. Ross',\n",
       "       'Hon. James French Hill', 'Hon. Joseph P. Kennedy',\n",
       "       'Hon. John Garamendi', 'Hon. Susan W. Brooks',\n",
       "       'Hon. David Kustoff', 'Hon. Abigail Spanberger',\n",
       "       'Hon. Linda T. Sanchez', 'Hon. Victoria Spartz',\n",
       "       'Mrs. Marjorie Taylor Greene', 'Hon. Joseph D. Morelle',\n",
       "       'Hon. Adam B. Schiff', 'None Marie Newman', 'Hon. Harley E. Rouda',\n",
       "       'Hon. Eleanor Holmes Norton', 'Hon. Bill Pascrell',\n",
       "       'Mr. Scott Franklin', 'Hon. Elaine Luria',\n",
       "       'Hon. Mario Diaz-Balart', 'Hon. Stephanie Bice',\n",
       "       'Hon. Thomas Massie', 'Hon. Justin Amash'], dtype=object)"
      ]
     },
     "execution_count": 9,
     "metadata": {},
     "output_type": "execute_result"
    }
   ],
   "source": [
    "data.representative.unique()"
   ]
  },
  {
   "cell_type": "code",
   "execution_count": null,
   "metadata": {},
   "outputs": [
    {
     "data": {
      "text/plain": [
       "array(['purchase', 'sale_partial', 'sale_full', 'exchange', 'sale'],\n",
       "      dtype=object)"
      ]
     },
     "execution_count": 10,
     "metadata": {},
     "output_type": "execute_result"
    }
   ],
   "source": [
    "data.type.unique()"
   ]
  },
  {
   "cell_type": "code",
   "execution_count": null,
   "metadata": {},
   "outputs": [
    {
     "name": "stdout",
     "output_type": "stream",
     "text": [
      "(9521, 12)\n"
     ]
    }
   ],
   "source": [
    "#Check for duplicate rows \n",
    "data.drop_duplicates()\n",
    "print(data.shape)"
   ]
  },
  {
   "cell_type": "markdown",
   "metadata": {},
   "source": [
    "Now having cleaned this dataset I would continue my analysis on Tableu Public.\n",
    "\n",
    "I will search for a dataset of the political parties of each representative to compare Republican and Democratic Investments. "
   ]
  },
  {
   "cell_type": "code",
   "execution_count": null,
   "metadata": {},
   "outputs": [],
   "source": [
    "data.to_csv(\".\\Cleaned_House_Stock_US.csv\",index=False)"
   ]
  }
 ],
 "metadata": {
  "kernelspec": {
   "display_name": "Python 3.10.7 64-bit (microsoft store)",
   "language": "python",
   "name": "python3"
  },
  "language_info": {
   "codemirror_mode": {
    "name": "ipython",
    "version": 3
   },
   "file_extension": ".py",
   "mimetype": "text/x-python",
   "name": "python",
   "nbconvert_exporter": "python",
   "pygments_lexer": "ipython3",
   "version": "3.10.7"
  },
  "orig_nbformat": 4,
  "vscode": {
   "interpreter": {
    "hash": "2c83a459cc713b64631083cd8aa94ac3800cb0397c90c277d506e7dd44fe3a0a"
   }
  }
 },
 "nbformat": 4,
 "nbformat_minor": 2
}
