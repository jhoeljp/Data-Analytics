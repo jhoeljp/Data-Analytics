{
 "cells": [
  {
   "cell_type": "markdown",
   "metadata": {},
   "source": [
    "**US House of Representatives Analysis**\n",
    "\n",
    "*Objectives:*\n",
    "1) Load Collected Data from API for Analysis (\"https://house-stock-watcher-data.s3-us-west-2.amazonaws.com/data/all_transactions.json\")\n",
    "2) Parse and Clean\n",
    "3) Better understand and brainstorm analysis ideas."
   ]
  },
  {
   "cell_type": "code",
   "execution_count": 152,
   "metadata": {},
   "outputs": [],
   "source": [
    "#load dependencies\n",
    "import pandas as pd"
   ]
  },
  {
   "cell_type": "markdown",
   "metadata": {},
   "source": [
    "*Data Collection and Exploration*"
   ]
  },
  {
   "cell_type": "code",
   "execution_count": 153,
   "metadata": {},
   "outputs": [
    {
     "name": "stdout",
     "output_type": "stream",
     "text": [
      "              amount                                  asset_description  \\\n",
      "0   $1,001 - $15,000                                             BP plc   \n",
      "1   $1,001 - $15,000                            Exxon Mobil Corporation   \n",
      "2  $15,001 - $50,000  Industrial Logistics Properties Trust - Common...   \n",
      "\n",
      "   cap_gains_over_200_usd disclosure_date  disclosure_year district  owner  \\\n",
      "0                   False      10/04/2021             2021     NC05  joint   \n",
      "1                   False      10/04/2021             2021     NC05  joint   \n",
      "2                   False      10/04/2021             2021     NC05  joint   \n",
      "\n",
      "                                            ptr_link      representative  \\\n",
      "0  https://disclosures-clerk.house.gov/public_dis...  Hon. Virginia Foxx   \n",
      "1  https://disclosures-clerk.house.gov/public_dis...  Hon. Virginia Foxx   \n",
      "2  https://disclosures-clerk.house.gov/public_dis...  Hon. Virginia Foxx   \n",
      "\n",
      "  ticker transaction_date      type  \n",
      "0     BP       2021-09-27  purchase  \n",
      "1    XOM       2021-09-13  purchase  \n",
      "2   ILPT       2021-09-10  purchase  \n"
     ]
    }
   ],
   "source": [
    "#load dataset\n",
    "data = pd.read_csv(\"USA_Congress_Transactions_data.csv\")\n",
    "print(data.head(3))"
   ]
  },
  {
   "cell_type": "code",
   "execution_count": 154,
   "metadata": {},
   "outputs": [
    {
     "name": "stdout",
     "output_type": "stream",
     "text": [
      "Index(['amount', 'asset_description', 'cap_gains_over_200_usd',\n",
      "       'disclosure_date', 'disclosure_year', 'district', 'owner', 'ptr_link',\n",
      "       'representative', 'ticker', 'transaction_date', 'type'],\n",
      "      dtype='object')\n",
      "(15433, 12)\n"
     ]
    }
   ],
   "source": [
    "print(data.columns)\n",
    "print(data.shape)"
   ]
  },
  {
   "cell_type": "markdown",
   "metadata": {},
   "source": [
    "*Data Transformation and Validation*"
   ]
  },
  {
   "cell_type": "code",
   "execution_count": 155,
   "metadata": {},
   "outputs": [
    {
     "name": "stdout",
     "output_type": "stream",
     "text": [
      "['$1,001 - $15,000' '$15,001 - $50,000' '$50,001 - $100,000'\n",
      " '$100,001 - $250,000' '$1,001 -' '$250,001 - $500,000'\n",
      " '$500,001 - $1,000,000' '$5,000,001 - $25,000,000'\n",
      " '$1,000,001 - $5,000,000' '$1,000,000 +' '$1,000 - $15,000'\n",
      " '$15,000 - $50,000' '$50,000,000 +' '$1,000,000 - $5,000,000']\n"
     ]
    }
   ],
   "source": [
    "#Analyze uniqueness or rows \n",
    "print(data.amount.unique())"
   ]
  },
  {
   "cell_type": "markdown",
   "metadata": {},
   "source": [
    "There is values in the amount column starting with a 1 dollar difference\n",
    "'$1,000 - $15,000' and '$1,001 - $15,000' should be the same value \n",
    "lets fix for the difference across the entire column "
   ]
  },
  {
   "cell_type": "code",
   "execution_count": 156,
   "metadata": {},
   "outputs": [
    {
     "name": "stderr",
     "output_type": "stream",
     "text": [
      "C:\\Users\\jhoel\\AppData\\Local\\Temp\\ipykernel_20276\\1519578588.py:5: SettingWithCopyWarning: \n",
      "A value is trying to be set on a copy of a slice from a DataFrame\n",
      "\n",
      "See the caveats in the documentation: https://pandas.pydata.org/pandas-docs/stable/user_guide/indexing.html#returning-a-view-versus-a-copy\n",
      "  data['amount'][i] = list(data['amount'][i])\n",
      "C:\\Users\\jhoel\\AppData\\Local\\Temp\\ipykernel_20276\\1519578588.py:7: SettingWithCopyWarning: \n",
      "A value is trying to be set on a copy of a slice from a DataFrame\n",
      "\n",
      "See the caveats in the documentation: https://pandas.pydata.org/pandas-docs/stable/user_guide/indexing.html#returning-a-view-versus-a-copy\n",
      "  data['amount'][i] = ''.join(data['amount'][i])\n"
     ]
    }
   ],
   "source": [
    "#Fix amount column\n",
    "for i in range(0,len(data)):\n",
    "    index = data['amount'][i].find('01')\n",
    "    if index != -1:\n",
    "      data['amount'][i] = list(data['amount'][i])\n",
    "      data['amount'][i][index:index+2] = '00'\n",
    "      data['amount'][i] = ''.join(data['amount'][i])"
   ]
  },
  {
   "cell_type": "code",
   "execution_count": 157,
   "metadata": {},
   "outputs": [
    {
     "name": "stdout",
     "output_type": "stream",
     "text": [
      "['$1,000 - $15,000' '$15,000 - $50,000' '$50,000 - $100,000'\n",
      " '$100,000 - $250,000' '$1,000 -' '$250,000 - $500,000'\n",
      " '$500,000 - $1,000,000' '$5,000,000 - $25,000,000'\n",
      " '$1,000,000 - $5,000,000' '$1,000,000 +' '$50,000,000 +']\n",
      "(15433, 12)\n"
     ]
    }
   ],
   "source": [
    "print(data.amount.unique())\n",
    "print(data.shape)"
   ]
  },
  {
   "cell_type": "code",
   "execution_count": 158,
   "metadata": {},
   "outputs": [
    {
     "name": "stderr",
     "output_type": "stream",
     "text": [
      "C:\\Users\\jhoel\\AppData\\Local\\Temp\\ipykernel_20276\\2812941981.py:6: SettingWithCopyWarning: \n",
      "A value is trying to be set on a copy of a slice from a DataFrame\n",
      "\n",
      "See the caveats in the documentation: https://pandas.pydata.org/pandas-docs/stable/user_guide/indexing.html#returning-a-view-versus-a-copy\n",
      "  data['representative'][i] = ' '.join(first_last_name)\n"
     ]
    },
    {
     "data": {
      "text/plain": [
       "array(['Virginia Foxx', 'Alan S. Lowenthal', 'Aston Donald McEachin',\n",
       "       'Austin Scott', 'Thomas Suozzi', 'Christopher L. Jacobs',\n",
       "       'Susie Lee', 'TJ John (Tj) Cox', 'Mo Brooks', 'Robert J. Wittman',\n",
       "       'Vern Buchanan', 'Lois Frankel', 'Michael T. McCaul',\n",
       "       'Suzan K. DelBene', 'Greg Gianforte', 'Lloyd K. Smucker',\n",
       "       'Earl Blumenauer', 'James Comer', 'James R. Langevin',\n",
       "       'John Curtis', 'Trey Hollingsworth', 'Anthony E. Gonzalez',\n",
       "       'William R. Keating', 'Raúl M. Grijalva', 'Josh Gottheimer',\n",
       "       'Katherine M. Clark', 'Carolyn B. Maloney', 'Pete Sessions',\n",
       "       'David B. McKinley', 'Nancy Pelosi', 'Steve Cohen',\n",
       "       'Gerald E. Connolly', 'Lloyd Doggett', 'David E. Price',\n",
       "       'Kathy Manning', 'Scott H. Peters', 'Sean Patrick Maloney',\n",
       "       'Michael K. Simpson', 'Greg Steube',\n",
       "       'Donald Sternoff Honorable Beyer', 'Mark Dr Green', 'Brian Mast',\n",
       "       'Mary Gay Scanlon', 'Charles J. \"Chuck\" Fleischmann', 'Mike Kelly',\n",
       "       'Marie Newman', 'Robert C. \"Bobby\" Scott', 'Kurt Schrader',\n",
       "       'Earl Leroy Carter', 'Michael Patrick Guest', 'Hakeem S. Jeffries',\n",
       "       'Rohit Khanna', 'Billy Long', 'Grace Meng', 'Peter Meijer',\n",
       "       'Richard W. Allen', 'James E Hon Banks', 'Debbie Dingell',\n",
       "       'Blake Moore', 'Tom Cole', 'Neal Patrick MD, Facs Dunn',\n",
       "       'Harold Dallas Rogers', 'Fred Upton', 'Doug Lamborn',\n",
       "       'Peter J. Visclosky', 'George Holding', 'Bob Gibbs', 'Sara Jacobs',\n",
       "       'Marjorie Taylor Greene', 'David P. Joyce', 'Dwight Evans',\n",
       "       'Doris O. Matsui', 'Francis Rooney', 'Dean Phillips',\n",
       "       'Peter Welch', 'Ed Perlmutter', 'Ed Case', 'James French Hill',\n",
       "       'Gilbert Cisneros', 'K. Michael Conaway', 'Zoe Lofgren',\n",
       "       'Donald Sternoff Beyer', 'Cheri Bustos', 'August Lee Pfluger',\n",
       "       'John A. Yarmuth', 'Cindy Axne', 'Kevin Hern', 'Scott Franklin',\n",
       "       'Neal Patrick MD, FACS Dunn', 'Mark Green', 'John Rutherford',\n",
       "       'James E. Banks', 'Ann Wagner', 'Jamie Raskin', 'Michael Garcia',\n",
       "       'Tom Malinowski', 'Victoria Spartz', 'Patrick Fallon',\n",
       "       'Bradley S. Schneider', 'Kim Dr Schrier', 'Daniel Crenshaw',\n",
       "       'David Cheston Rouzer', 'Michael C. Burgess',\n",
       "       'Maria Elvira Salazar', 'Tom Rice', 'Brian Higgins',\n",
       "       'David Kustoff', 'Susan A. Davis', 'Nicholas Van Taylor',\n",
       "       'Debbie Wasserman Schultz', 'Joe Courtney', 'Mikie Sherrill',\n",
       "       'Andrew Garbarino', 'Roger W. Marshall', 'Michael Waltz',\n",
       "       'Adam B. Schiff', 'Kim Schrier', 'Wm. Lacy Clay',\n",
       "       'Chellie Pingree', 'Deborah K. Ross', 'Neal Patrick Dunn MD, FACS',\n",
       "       'W. Greg Steube', 'Gus M. Bilirakis', 'Ron Estes',\n",
       "       'Michael John Gallagher', 'Frank Pallone',\n",
       "       'David Madison Cawthorn', 'Greg Francis Murphy', 'Seth Moulton',\n",
       "       'Kathy Castor', 'Ashley Hinson Arenholz', 'Kenneth R. Buck',\n",
       "       'Lori Trahan', 'Garret Graves', 'Judy Chu', 'Diana Harshbarger',\n",
       "       'Robert E. Latta', \"Tom O'Halleran\", 'David P. Roe',\n",
       "       'Sharice Davids', 'Adam Kinzinger', 'Donna Shalala',\n",
       "       'William R. Timmons', 'Kenny Marchant', 'Carol Devine Miller',\n",
       "       'Daniel Meuser', 'Harley E. Rouda', 'David Trone',\n",
       "       'Robert B. Aderholt', 'Nicholas V. Taylor', 'Matt Gaetz',\n",
       "       'Bill Huizenga', 'Joseph P. Kennedy', 'John Garamendi',\n",
       "       'Susan W. Brooks', 'James M. Costa', 'Abigail Spanberger',\n",
       "       'Linda T. Sanchez', 'Eleanor Holmes Norton', 'Vicente Gonzalez',\n",
       "       'Felix Barry Moore', 'Joseph D. Morelle', 'Patrick T. McHenry',\n",
       "       'Bill Pascrell', 'Larry Bucshon', 'Brad Sherman',\n",
       "       'Jake Auchincloss', 'Elaine Luria', 'Bill Flores',\n",
       "       'Michael Fq San Nicolas', 'John B. Larson', 'Steve Chabot',\n",
       "       'S. Raja Krishnamoorthi', 'Tim Burchett', 'Mario Diaz-Balart',\n",
       "       'Dan Newhouse', 'Stephanie Bice', 'Thomas Massie',\n",
       "       'James Hagedorn', 'Justin Amash'], dtype=object)"
      ]
     },
     "execution_count": 158,
     "metadata": {},
     "output_type": "execute_result"
    }
   ],
   "source": [
    "#Modify representative format for easier assimilation to other data sets \n",
    "#Remove Hon. Prefix before representative name \n",
    "for i in range(0,len(data)):\n",
    "    #grab last part of prefix split (First and Last Name )\n",
    "    first_last_name = data['representative'][i].split(\" \")[1:]\n",
    "    data['representative'][i] = ' '.join(first_last_name)\n",
    "data['representative'].unique()"
   ]
  },
  {
   "cell_type": "code",
   "execution_count": 159,
   "metadata": {},
   "outputs": [
    {
     "name": "stdout",
     "output_type": "stream",
     "text": [
      "(9521, 12)\n"
     ]
    }
   ],
   "source": [
    "#Delete rows with incomplete data \n",
    "data = data.dropna()\n",
    "print(data.shape)"
   ]
  },
  {
   "cell_type": "code",
   "execution_count": 160,
   "metadata": {},
   "outputs": [
    {
     "data": {
      "text/plain": [
       "array(['NC05', 'CA47', 'VA04', 'NV03', 'AL05', 'TX10', 'WA01', 'MT00',\n",
       "       'OR03', 'KY01', 'FL21', 'RI02', 'UT03', 'AZ03', 'NJ05', 'MA05',\n",
       "       'WV01', 'CA12', 'TN09', 'VA11', 'NC04', 'NC06', 'CA52', 'FL17',\n",
       "       'VA08', 'PA05', 'TN03', 'PA16', 'IL03', 'TN07', 'VA01', 'MS03',\n",
       "       'TX17', 'CA17', 'TX35', 'NY06', 'GA12', 'MI12', 'OK04', 'FL02',\n",
       "       'CO05', 'IN01', 'FL16', 'GA14', 'CA06', 'MN03', 'VT00', 'NY08',\n",
       "       'CO07', 'CA19', 'TX11', 'FL18', 'IA03', 'OK01', 'IN03', 'MO02',\n",
       "       'MD08', 'FL15', 'IL10', 'WA08', 'MI06', 'OH16', 'CA39', 'CA53',\n",
       "       'KY03', 'TX03', 'FL23', 'CT02', 'PA03', 'SC07', 'OH07', 'TX26',\n",
       "       'KS01', 'ME01', 'NC02', 'FL12', 'NJ11', 'KS04', 'WI08', 'NJ06',\n",
       "       'NY27', 'MA06', 'FL14', 'IA01', 'ID02', 'TN01', 'OH05', 'MA03',\n",
       "       'AZ01', 'GA01', 'NC07', 'IL16', 'FL27', 'SC04', 'IL17', 'TX24',\n",
       "       'WV03', 'NY12', 'GA08', 'PA09', 'MD06', 'FL04', 'AR02', 'MA04',\n",
       "       'CA03', 'IN05', 'TN08', 'VA07', 'CA38', 'NY25', 'CA28', 'CA48',\n",
       "       'DC00', 'NJ09', 'VA02', 'FL25', 'OK05', 'TX32', 'KY04', 'MI03'],\n",
       "      dtype=object)"
      ]
     },
     "execution_count": 160,
     "metadata": {},
     "output_type": "execute_result"
    }
   ],
   "source": [
    "#Analysis distric, representative, and type \n",
    "data.district.unique()"
   ]
  },
  {
   "cell_type": "code",
   "execution_count": 161,
   "metadata": {},
   "outputs": [
    {
     "data": {
      "text/plain": [
       "array(['Virginia Foxx', 'Alan S. Lowenthal', 'Aston Donald McEachin',\n",
       "       'Susie Lee', 'Mo Brooks', 'Michael T. McCaul', 'Suzan K. DelBene',\n",
       "       'Greg Gianforte', 'Earl Blumenauer', 'James Comer', 'Lois Frankel',\n",
       "       'James R. Langevin', 'John Curtis', 'Raúl M. Grijalva',\n",
       "       'Josh Gottheimer', 'Katherine M. Clark', 'David B. McKinley',\n",
       "       'Nancy Pelosi', 'Steve Cohen', 'Gerald E. Connolly',\n",
       "       'David E. Price', 'Kathy Manning', 'Scott H. Peters',\n",
       "       'Greg Steube', 'Donald Sternoff Honorable Beyer',\n",
       "       'Mary Gay Scanlon', 'Charles J. \"Chuck\" Fleischmann', 'Mike Kelly',\n",
       "       'Marie Newman', 'Mark Dr Green', 'Robert J. Wittman',\n",
       "       'Michael Patrick Guest', 'Pete Sessions', 'Rohit Khanna',\n",
       "       'Lloyd Doggett', 'Grace Meng', 'Richard W. Allen',\n",
       "       'Debbie Dingell', 'Tom Cole', 'Neal Patrick MD, Facs Dunn',\n",
       "       'Doug Lamborn', 'Peter J. Visclosky', 'Vern Buchanan',\n",
       "       'Marjorie Taylor Greene', 'Doris O. Matsui', 'Dean Phillips',\n",
       "       'Peter Welch', 'Hakeem S. Jeffries', 'Ed Perlmutter',\n",
       "       'Zoe Lofgren', 'Donald Sternoff Beyer', 'August Lee Pfluger',\n",
       "       'Brian Mast', 'Cindy Axne', 'Kevin Hern',\n",
       "       'Neal Patrick MD, FACS Dunn', 'James E. Banks', 'Ann Wagner',\n",
       "       'Jamie Raskin', 'Scott Franklin', 'Bradley S. Schneider',\n",
       "       'Kim Dr Schrier', 'James E Hon Banks', 'Fred Upton',\n",
       "       'Anthony E. Gonzalez', 'Mark Green', 'Gilbert Cisneros',\n",
       "       'Susan A. Davis', 'K. Michael Conaway', 'John A. Yarmuth',\n",
       "       'Nicholas Van Taylor', 'Debbie Wasserman Schultz', 'Joe Courtney',\n",
       "       'Dwight Evans', 'Tom Rice', 'Bob Gibbs', 'Michael C. Burgess',\n",
       "       'Roger W. Marshall', 'Kim Schrier', 'Chellie Pingree',\n",
       "       'Deborah K. Ross', 'W. Greg Steube', 'Gus M. Bilirakis',\n",
       "       'Mikie Sherrill', 'Ron Estes', 'Michael John Gallagher',\n",
       "       'Frank Pallone', 'Christopher L. Jacobs', 'Seth Moulton',\n",
       "       'Kathy Castor', 'Ashley Hinson Arenholz', 'Michael K. Simpson',\n",
       "       'Diana Harshbarger', 'Robert E. Latta', 'Lori Trahan',\n",
       "       \"Tom O'Halleran\", 'Earl Leroy Carter',\n",
       "       'Neal Patrick Dunn MD, FACS', 'David Cheston Rouzer',\n",
       "       'Adam Kinzinger', 'Donna Shalala', 'William R. Timmons',\n",
       "       'Cheri Bustos', 'Kenny Marchant', 'Carol Devine Miller',\n",
       "       'Carolyn B. Maloney', 'Austin Scott', 'Daniel Meuser',\n",
       "       'David Trone', 'John Rutherford', 'James French Hill',\n",
       "       'Joseph P. Kennedy', 'John Garamendi', 'Susan W. Brooks',\n",
       "       'David Kustoff', 'Abigail Spanberger', 'Linda T. Sanchez',\n",
       "       'Victoria Spartz', 'Joseph D. Morelle', 'Adam B. Schiff',\n",
       "       'Harley E. Rouda', 'Eleanor Holmes Norton', 'Bill Pascrell',\n",
       "       'Elaine Luria', 'Mario Diaz-Balart', 'Stephanie Bice',\n",
       "       'Thomas Massie', 'Justin Amash'], dtype=object)"
      ]
     },
     "execution_count": 161,
     "metadata": {},
     "output_type": "execute_result"
    }
   ],
   "source": [
    "data.representative.unique()"
   ]
  },
  {
   "cell_type": "code",
   "execution_count": 162,
   "metadata": {},
   "outputs": [
    {
     "data": {
      "text/plain": [
       "array(['purchase', 'sale_partial', 'sale_full', 'exchange', 'sale'],\n",
       "      dtype=object)"
      ]
     },
     "execution_count": 162,
     "metadata": {},
     "output_type": "execute_result"
    }
   ],
   "source": [
    "data.type.unique()"
   ]
  },
  {
   "cell_type": "code",
   "execution_count": 163,
   "metadata": {},
   "outputs": [
    {
     "name": "stdout",
     "output_type": "stream",
     "text": [
      "(9521, 12)\n"
     ]
    }
   ],
   "source": [
    "#Check for duplicate rows \n",
    "data.drop_duplicates()\n",
    "print(data.shape)"
   ]
  },
  {
   "cell_type": "markdown",
   "metadata": {},
   "source": [
    "*Analysis and Visualization*"
   ]
  },
  {
   "cell_type": "code",
   "execution_count": 164,
   "metadata": {},
   "outputs": [],
   "source": [
    "data.to_csv(\".\\Cleaned_House_Stock_US.csv\",index=False)"
   ]
  },
  {
   "cell_type": "markdown",
   "metadata": {},
   "source": [
    "Now having cleaned this dataset I would continue my analysis on Tableu Public.\n",
    "\n",
    "I will search for a dataset of the political parties of each representative to compare Republican and Democratic Investments. \n",
    "\n",
    "https://en.wikipedia.org/wiki/List_of_current_members_of_the_United_States_House_of_Representatives\n",
    "\n",
    "However, this list only contains current representatives; for my dataset to be complete I would have to limit my dataset to last two years of office 2021-2022\n",
    "\n",
    "Before proceeding I would clean up this data set as well prior to analysis.\n"
   ]
  },
  {
   "cell_type": "markdown",
   "metadata": {},
   "source": [
    "**List of Current USA House Representatives**"
   ]
  },
  {
   "cell_type": "code",
   "execution_count": 165,
   "metadata": {},
   "outputs": [
    {
     "data": {
      "text/html": [
       "<div>\n",
       "<style scoped>\n",
       "    .dataframe tbody tr th:only-of-type {\n",
       "        vertical-align: middle;\n",
       "    }\n",
       "\n",
       "    .dataframe tbody tr th {\n",
       "        vertical-align: top;\n",
       "    }\n",
       "\n",
       "    .dataframe thead th {\n",
       "        text-align: right;\n",
       "    }\n",
       "</style>\n",
       "<table border=\"1\" class=\"dataframe\">\n",
       "  <thead>\n",
       "    <tr style=\"text-align: right;\">\n",
       "      <th></th>\n",
       "      <th>District</th>\n",
       "      <th>Member</th>\n",
       "      <th>Party</th>\n",
       "      <th>Prior experience</th>\n",
       "      <th>Education</th>\n",
       "      <th>Assumed office</th>\n",
       "      <th>Residence</th>\n",
       "      <th>Born[2]</th>\n",
       "    </tr>\n",
       "  </thead>\n",
       "  <tbody>\n",
       "    <tr>\n",
       "      <th>0</th>\n",
       "      <td>Alabama 1</td>\n",
       "      <td>Jerry Carl</td>\n",
       "      <td>Republican</td>\n",
       "      <td>Mobile County Commission</td>\n",
       "      <td>Florida Gateway College</td>\n",
       "      <td>2021</td>\n",
       "      <td>Mobile</td>\n",
       "      <td>June 17, 1958(age 64)</td>\n",
       "    </tr>\n",
       "    <tr>\n",
       "      <th>1</th>\n",
       "      <td>Alabama 2</td>\n",
       "      <td>Barry Moore</td>\n",
       "      <td>Republican</td>\n",
       "      <td>Alabama House of Representatives</td>\n",
       "      <td>Enterprise State Community College (AS)\\r\\nAub...</td>\n",
       "      <td>2021</td>\n",
       "      <td>Enterprise</td>\n",
       "      <td>September 26, 1966(age 56)</td>\n",
       "    </tr>\n",
       "    <tr>\n",
       "      <th>2</th>\n",
       "      <td>Alabama 3</td>\n",
       "      <td>Mike Rogers</td>\n",
       "      <td>Republican</td>\n",
       "      <td>Calhoun County Commissioner\\r\\nAlabama House o...</td>\n",
       "      <td>Jacksonville State University (BA, MPA)\\r\\nBir...</td>\n",
       "      <td>2003</td>\n",
       "      <td>Anniston</td>\n",
       "      <td>July 16, 1958(age 64)</td>\n",
       "    </tr>\n",
       "    <tr>\n",
       "      <th>3</th>\n",
       "      <td>Alabama 4</td>\n",
       "      <td>Robert Aderholt</td>\n",
       "      <td>Republican</td>\n",
       "      <td>Haleyville Municipal Judge</td>\n",
       "      <td>University of North Alabama\\r\\nBirmingham–Sout...</td>\n",
       "      <td>1997</td>\n",
       "      <td>Haleyville</td>\n",
       "      <td>July 22, 1965(age 57)</td>\n",
       "    </tr>\n",
       "    <tr>\n",
       "      <th>4</th>\n",
       "      <td>Alabama 5</td>\n",
       "      <td>Mo Brooks</td>\n",
       "      <td>Republican</td>\n",
       "      <td>Alabama House of Representatives\\r\\nMadison Co...</td>\n",
       "      <td>Duke University (BA)\\r\\nUniversity of Alabama ...</td>\n",
       "      <td>2011</td>\n",
       "      <td>Huntsville</td>\n",
       "      <td>April 29, 1954(age 68)</td>\n",
       "    </tr>\n",
       "  </tbody>\n",
       "</table>\n",
       "</div>"
      ],
      "text/plain": [
       "    District           Member       Party  \\\n",
       "0  Alabama 1       Jerry Carl  Republican   \n",
       "1  Alabama 2      Barry Moore  Republican   \n",
       "2  Alabama 3      Mike Rogers  Republican   \n",
       "3  Alabama 4  Robert Aderholt  Republican   \n",
       "4  Alabama 5        Mo Brooks  Republican   \n",
       "\n",
       "                                    Prior experience  \\\n",
       "0                           Mobile County Commission   \n",
       "1                   Alabama House of Representatives   \n",
       "2  Calhoun County Commissioner\\r\\nAlabama House o...   \n",
       "3                         Haleyville Municipal Judge   \n",
       "4  Alabama House of Representatives\\r\\nMadison Co...   \n",
       "\n",
       "                                           Education Assumed office  \\\n",
       "0                            Florida Gateway College           2021   \n",
       "1  Enterprise State Community College (AS)\\r\\nAub...           2021   \n",
       "2  Jacksonville State University (BA, MPA)\\r\\nBir...           2003   \n",
       "3  University of North Alabama\\r\\nBirmingham–Sout...           1997   \n",
       "4  Duke University (BA)\\r\\nUniversity of Alabama ...           2011   \n",
       "\n",
       "    Residence                     Born[2]  \n",
       "0      Mobile       June 17, 1958(age 64)  \n",
       "1  Enterprise  September 26, 1966(age 56)  \n",
       "2    Anniston       July 16, 1958(age 64)  \n",
       "3  Haleyville       July 22, 1965(age 57)  \n",
       "4  Huntsville      April 29, 1954(age 68)  "
      ]
     },
     "execution_count": 165,
     "metadata": {},
     "output_type": "execute_result"
    }
   ],
   "source": [
    "reps = pd.read_csv(\"List_of_Representatives.csv\")\n",
    "reps.head()\n"
   ]
  },
  {
   "cell_type": "markdown",
   "metadata": {},
   "source": [
    "We are only interested in the representatives' political party, District, and age. "
   ]
  },
  {
   "cell_type": "code",
   "execution_count": 166,
   "metadata": {},
   "outputs": [
    {
     "data": {
      "text/plain": [
       "array(['Alabama', 'Alaska', 'Arizona', 'Arkansas', 'California',\n",
       "       'Colorado', 'Connecticut', 'Delaware', 'Florida', 'Georgia',\n",
       "       'Hawaii', 'Idaho', 'Illinois', 'Indiana', 'Iowa', 'Kansas',\n",
       "       'Kentucky', 'Louisiana', 'Maine', 'Maryland', 'Massachusetts',\n",
       "       'Michigan', 'Minnesota', 'Mississippi', 'Missouri', 'Montana',\n",
       "       'Nebraska', 'Nevada', 'New Hampshire', 'New Jersey', 'New Mexico',\n",
       "       'New York', 'North Carolina', 'North Dakota', 'Ohio', 'Oklahoma',\n",
       "       'Oregon', 'Pennsylvania', 'Rhode Island', 'South Carolina',\n",
       "       'South Dakota', 'Tennessee', 'Texas', 'Utah', 'Vermont',\n",
       "       'Virginia', 'Washington', 'West Virginia', 'Wisconsin', 'Wyoming'],\n",
       "      dtype=object)"
      ]
     },
     "execution_count": 166,
     "metadata": {},
     "output_type": "execute_result"
    }
   ],
   "source": [
    "#Fix district column \n",
    "for i in range(0,len(reps)):\n",
    "    reps['District'][i] = reps['District'][i].split(\"\\xa0\")[0]\n",
    "reps.District.unique()"
   ]
  },
  {
   "cell_type": "code",
   "execution_count": 167,
   "metadata": {},
   "outputs": [
    {
     "data": {
      "text/html": [
       "<div>\n",
       "<style scoped>\n",
       "    .dataframe tbody tr th:only-of-type {\n",
       "        vertical-align: middle;\n",
       "    }\n",
       "\n",
       "    .dataframe tbody tr th {\n",
       "        vertical-align: top;\n",
       "    }\n",
       "\n",
       "    .dataframe thead th {\n",
       "        text-align: right;\n",
       "    }\n",
       "</style>\n",
       "<table border=\"1\" class=\"dataframe\">\n",
       "  <thead>\n",
       "    <tr style=\"text-align: right;\">\n",
       "      <th></th>\n",
       "      <th>District</th>\n",
       "      <th>Member</th>\n",
       "      <th>Party</th>\n",
       "      <th>Prior experience</th>\n",
       "      <th>Education</th>\n",
       "      <th>Assumed office</th>\n",
       "      <th>Residence</th>\n",
       "      <th>Birth_date</th>\n",
       "    </tr>\n",
       "  </thead>\n",
       "  <tbody>\n",
       "    <tr>\n",
       "      <th>0</th>\n",
       "      <td>Alabama</td>\n",
       "      <td>Jerry Carl</td>\n",
       "      <td>Republican</td>\n",
       "      <td>Mobile County Commission</td>\n",
       "      <td>Florida Gateway College</td>\n",
       "      <td>2021</td>\n",
       "      <td>Mobile</td>\n",
       "      <td>June 17, 1958(age 64)</td>\n",
       "    </tr>\n",
       "    <tr>\n",
       "      <th>1</th>\n",
       "      <td>Alabama</td>\n",
       "      <td>Barry Moore</td>\n",
       "      <td>Republican</td>\n",
       "      <td>Alabama House of Representatives</td>\n",
       "      <td>Enterprise State Community College (AS)\\r\\nAub...</td>\n",
       "      <td>2021</td>\n",
       "      <td>Enterprise</td>\n",
       "      <td>September 26, 1966(age 56)</td>\n",
       "    </tr>\n",
       "    <tr>\n",
       "      <th>2</th>\n",
       "      <td>Alabama</td>\n",
       "      <td>Mike Rogers</td>\n",
       "      <td>Republican</td>\n",
       "      <td>Calhoun County Commissioner\\r\\nAlabama House o...</td>\n",
       "      <td>Jacksonville State University (BA, MPA)\\r\\nBir...</td>\n",
       "      <td>2003</td>\n",
       "      <td>Anniston</td>\n",
       "      <td>July 16, 1958(age 64)</td>\n",
       "    </tr>\n",
       "    <tr>\n",
       "      <th>3</th>\n",
       "      <td>Alabama</td>\n",
       "      <td>Robert Aderholt</td>\n",
       "      <td>Republican</td>\n",
       "      <td>Haleyville Municipal Judge</td>\n",
       "      <td>University of North Alabama\\r\\nBirmingham–Sout...</td>\n",
       "      <td>1997</td>\n",
       "      <td>Haleyville</td>\n",
       "      <td>July 22, 1965(age 57)</td>\n",
       "    </tr>\n",
       "    <tr>\n",
       "      <th>4</th>\n",
       "      <td>Alabama</td>\n",
       "      <td>Mo Brooks</td>\n",
       "      <td>Republican</td>\n",
       "      <td>Alabama House of Representatives\\r\\nMadison Co...</td>\n",
       "      <td>Duke University (BA)\\r\\nUniversity of Alabama ...</td>\n",
       "      <td>2011</td>\n",
       "      <td>Huntsville</td>\n",
       "      <td>April 29, 1954(age 68)</td>\n",
       "    </tr>\n",
       "  </tbody>\n",
       "</table>\n",
       "</div>"
      ],
      "text/plain": [
       "  District           Member       Party  \\\n",
       "0  Alabama       Jerry Carl  Republican   \n",
       "1  Alabama      Barry Moore  Republican   \n",
       "2  Alabama      Mike Rogers  Republican   \n",
       "3  Alabama  Robert Aderholt  Republican   \n",
       "4  Alabama        Mo Brooks  Republican   \n",
       "\n",
       "                                    Prior experience  \\\n",
       "0                           Mobile County Commission   \n",
       "1                   Alabama House of Representatives   \n",
       "2  Calhoun County Commissioner\\r\\nAlabama House o...   \n",
       "3                         Haleyville Municipal Judge   \n",
       "4  Alabama House of Representatives\\r\\nMadison Co...   \n",
       "\n",
       "                                           Education Assumed office  \\\n",
       "0                            Florida Gateway College           2021   \n",
       "1  Enterprise State Community College (AS)\\r\\nAub...           2021   \n",
       "2  Jacksonville State University (BA, MPA)\\r\\nBir...           2003   \n",
       "3  University of North Alabama\\r\\nBirmingham–Sout...           1997   \n",
       "4  Duke University (BA)\\r\\nUniversity of Alabama ...           2011   \n",
       "\n",
       "    Residence                  Birth_date  \n",
       "0      Mobile       June 17, 1958(age 64)  \n",
       "1  Enterprise  September 26, 1966(age 56)  \n",
       "2    Anniston       July 16, 1958(age 64)  \n",
       "3  Haleyville       July 22, 1965(age 57)  \n",
       "4  Huntsville      April 29, 1954(age 68)  "
      ]
     },
     "execution_count": 167,
     "metadata": {},
     "output_type": "execute_result"
    }
   ],
   "source": [
    "#rename Born[2] column \n",
    "reps.rename(columns = {'Born[2]':'Birth_date'}, inplace = True)\n",
    "reps.head()"
   ]
  },
  {
   "cell_type": "code",
   "execution_count": 168,
   "metadata": {},
   "outputs": [
    {
     "data": {
      "text/plain": [
       "array(['64', '56', '57', '68', '49', '76', '72', '74', '63', '60', '42',\n",
       "       '52', '65', '54', '62', '58', '77', '66', '71', '78', '36', '70',\n",
       "       '82', '41', '46', '79', '45', '69', '59', '67', '43', '85', '53',\n",
       "       '47', '50', '81', '61', '84', '48', '33', '38', '35', '40', '34',\n",
       "       '44', '73', '55', '75', '39', '51', '83', '37', '32', '27', '86',\n",
       "       '80'], dtype=object)"
      ]
     },
     "execution_count": 168,
     "metadata": {},
     "output_type": "execute_result"
    }
   ],
   "source": [
    "#Create Age column from Born[2] column \n",
    "for i in range(0,len(reps)):\n",
    "    if reps['Birth_date'][i] != 'VACANT':\n",
    "        tmp = reps['Birth_date'][i].split(\"(\")\n",
    "        tmp = str(tmp[1]).split(\"\\xa0\")[1][:-1]\n",
    "        reps['Birth_date'][i] = tmp\n",
    "    else:\n",
    "        #drop row since house position currently VANCANT \n",
    "        reps = reps.drop(i)\n",
    "reps.Birth_date.unique()"
   ]
  },
  {
   "cell_type": "code",
   "execution_count": 169,
   "metadata": {},
   "outputs": [
    {
     "data": {
      "text/html": [
       "<div>\n",
       "<style scoped>\n",
       "    .dataframe tbody tr th:only-of-type {\n",
       "        vertical-align: middle;\n",
       "    }\n",
       "\n",
       "    .dataframe tbody tr th {\n",
       "        vertical-align: top;\n",
       "    }\n",
       "\n",
       "    .dataframe thead th {\n",
       "        text-align: right;\n",
       "    }\n",
       "</style>\n",
       "<table border=\"1\" class=\"dataframe\">\n",
       "  <thead>\n",
       "    <tr style=\"text-align: right;\">\n",
       "      <th></th>\n",
       "      <th>District</th>\n",
       "      <th>Member</th>\n",
       "      <th>Party</th>\n",
       "      <th>Prior experience</th>\n",
       "      <th>Education</th>\n",
       "      <th>Assumed office</th>\n",
       "      <th>Residence</th>\n",
       "      <th>Birth_date</th>\n",
       "    </tr>\n",
       "  </thead>\n",
       "  <tbody>\n",
       "    <tr>\n",
       "      <th>0</th>\n",
       "      <td>Alabama</td>\n",
       "      <td>Jerry Carl</td>\n",
       "      <td>Republican</td>\n",
       "      <td>Mobile County Commission</td>\n",
       "      <td>Florida Gateway College</td>\n",
       "      <td>2021</td>\n",
       "      <td>Mobile</td>\n",
       "      <td>64</td>\n",
       "    </tr>\n",
       "    <tr>\n",
       "      <th>1</th>\n",
       "      <td>Alabama</td>\n",
       "      <td>Barry Moore</td>\n",
       "      <td>Republican</td>\n",
       "      <td>Alabama House of Representatives</td>\n",
       "      <td>Enterprise State Community College (AS)\\r\\nAub...</td>\n",
       "      <td>2021</td>\n",
       "      <td>Enterprise</td>\n",
       "      <td>56</td>\n",
       "    </tr>\n",
       "    <tr>\n",
       "      <th>2</th>\n",
       "      <td>Alabama</td>\n",
       "      <td>Mike Rogers</td>\n",
       "      <td>Republican</td>\n",
       "      <td>Calhoun County Commissioner\\r\\nAlabama House o...</td>\n",
       "      <td>Jacksonville State University (BA, MPA)\\r\\nBir...</td>\n",
       "      <td>2003</td>\n",
       "      <td>Anniston</td>\n",
       "      <td>64</td>\n",
       "    </tr>\n",
       "    <tr>\n",
       "      <th>3</th>\n",
       "      <td>Alabama</td>\n",
       "      <td>Robert Aderholt</td>\n",
       "      <td>Republican</td>\n",
       "      <td>Haleyville Municipal Judge</td>\n",
       "      <td>University of North Alabama\\r\\nBirmingham–Sout...</td>\n",
       "      <td>1997</td>\n",
       "      <td>Haleyville</td>\n",
       "      <td>57</td>\n",
       "    </tr>\n",
       "    <tr>\n",
       "      <th>4</th>\n",
       "      <td>Alabama</td>\n",
       "      <td>Mo Brooks</td>\n",
       "      <td>Republican</td>\n",
       "      <td>Alabama House of Representatives\\r\\nMadison Co...</td>\n",
       "      <td>Duke University (BA)\\r\\nUniversity of Alabama ...</td>\n",
       "      <td>2011</td>\n",
       "      <td>Huntsville</td>\n",
       "      <td>68</td>\n",
       "    </tr>\n",
       "  </tbody>\n",
       "</table>\n",
       "</div>"
      ],
      "text/plain": [
       "  District           Member       Party  \\\n",
       "0  Alabama       Jerry Carl  Republican   \n",
       "1  Alabama      Barry Moore  Republican   \n",
       "2  Alabama      Mike Rogers  Republican   \n",
       "3  Alabama  Robert Aderholt  Republican   \n",
       "4  Alabama        Mo Brooks  Republican   \n",
       "\n",
       "                                    Prior experience  \\\n",
       "0                           Mobile County Commission   \n",
       "1                   Alabama House of Representatives   \n",
       "2  Calhoun County Commissioner\\r\\nAlabama House o...   \n",
       "3                         Haleyville Municipal Judge   \n",
       "4  Alabama House of Representatives\\r\\nMadison Co...   \n",
       "\n",
       "                                           Education Assumed office  \\\n",
       "0                            Florida Gateway College           2021   \n",
       "1  Enterprise State Community College (AS)\\r\\nAub...           2021   \n",
       "2  Jacksonville State University (BA, MPA)\\r\\nBir...           2003   \n",
       "3  University of North Alabama\\r\\nBirmingham–Sout...           1997   \n",
       "4  Duke University (BA)\\r\\nUniversity of Alabama ...           2011   \n",
       "\n",
       "    Residence Birth_date  \n",
       "0      Mobile         64  \n",
       "1  Enterprise         56  \n",
       "2    Anniston         64  \n",
       "3  Haleyville         57  \n",
       "4  Huntsville         68  "
      ]
     },
     "execution_count": 169,
     "metadata": {},
     "output_type": "execute_result"
    }
   ],
   "source": [
    "reps.head()"
   ]
  },
  {
   "cell_type": "markdown",
   "metadata": {},
   "source": [
    "Now having cleaned this dataset I would continue my analysis on Tableu Public."
   ]
  }
 ],
 "metadata": {
  "kernelspec": {
   "display_name": "Python 3.10.7 64-bit (microsoft store)",
   "language": "python",
   "name": "python3"
  },
  "language_info": {
   "codemirror_mode": {
    "name": "ipython",
    "version": 3
   },
   "file_extension": ".py",
   "mimetype": "text/x-python",
   "name": "python",
   "nbconvert_exporter": "python",
   "pygments_lexer": "ipython3",
   "version": "3.10.7"
  },
  "orig_nbformat": 4,
  "vscode": {
   "interpreter": {
    "hash": "2c83a459cc713b64631083cd8aa94ac3800cb0397c90c277d506e7dd44fe3a0a"
   }
  }
 },
 "nbformat": 4,
 "nbformat_minor": 2
}
