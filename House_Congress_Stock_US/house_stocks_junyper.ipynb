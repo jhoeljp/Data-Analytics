{
 "cells": [
  {
   "cell_type": "markdown",
   "metadata": {},
   "source": [
    "**US House of Representatives Analysis**\n",
    "\n",
    "*Objectives:*\n",
    "1) Load Collected Data from API for Analysis (\"https://house-stock-watcher-data.s3-us-west-2.amazonaws.com/data/all_transactions.json\")\n",
    "2) Parse and Clean\n",
    "3) Better understand and brainstorm analysis ideas.\n",
    "\n",
    "*Assumptions:*\n",
    "\n",
    "Prior to this full Data Cleaning, we grouped company names with similar stock tickers to avoid discrepancies and facilitate visualization.\n",
    "\n",
    "For the company Name we grouped Class A, Class B, Class C, Sponsored, Unsponsored, Bought by mistake and then sold, as well as Ordinary share purchases all under the same Company Name.\n",
    "\n",
    "Fixed Dates to same format, and corrected blank company names based on stock ticker. \n",
    "\n",
    "We have also exclude transactions from 2018 given there were too few to make an insightfull impact.\n",
    "\n",
    "More notably out of all this assumptions is the fact thaat the API provides a range of quantity invested instead of the real dollar amount that the representatives disclosed, we chose to take the upper range of this ranges to perform quantifiable transformations used on our visualization. "
   ]
  },
  {
   "cell_type": "code",
   "execution_count": 54,
   "metadata": {},
   "outputs": [],
   "source": [
    "#load dependencies\n",
    "import pandas as pd\n",
    "import warnings\n",
    "warnings.filterwarnings('ignore')"
   ]
  },
  {
   "cell_type": "markdown",
   "metadata": {},
   "source": [
    "*Data Collection and Exploration*"
   ]
  },
  {
   "cell_type": "code",
   "execution_count": 55,
   "metadata": {},
   "outputs": [
    {
     "name": "stdout",
     "output_type": "stream",
     "text": [
      "             amount             asset_description  cap_gains_over_200_usd  \\\n",
      "0  $1,001 - $15,000        3D Systems Corporation                   False   \n",
      "1  $1,001 - $15,000  3i Group plc Unsponsored ADR                   False   \n",
      "2  $1,001 - $15,000                    3M Company                   False   \n",
      "\n",
      "  disclosure_date  disclosure_year district owner  \\\n",
      "0       1/28/2021             2021     LA06   NaN   \n",
      "1       3/16/2022             2022     FL04   NaN   \n",
      "2       6/15/2020             2020     MN03   NaN   \n",
      "\n",
      "                                            ptr_link        representative  \\\n",
      "0  https://disclosures-clerk.house.gov/public_dis...    Hon. Garret Graves   \n",
      "1  https://disclosures-clerk.house.gov/public_dis...  Hon. John Rutherford   \n",
      "2  https://disclosures-clerk.house.gov/public_dis...    Hon. Dean Phillips   \n",
      "\n",
      "  ticker transaction_date       type  \n",
      "0    DDD        1/27/2021  sale_full  \n",
      "1  TGOPY        2/17/2022   purchase  \n",
      "2    MMM        5/13/2020   purchase  \n"
     ]
    }
   ],
   "source": [
    "#load dataset\n",
    "data = pd.read_csv(\"PreCleaning_USA_Congress_Transactions_data.csv\")\n",
    "print(data.head(3))"
   ]
  },
  {
   "cell_type": "code",
   "execution_count": 56,
   "metadata": {},
   "outputs": [
    {
     "name": "stdout",
     "output_type": "stream",
     "text": [
      "Index(['amount', 'asset_description', 'cap_gains_over_200_usd',\n",
      "       'disclosure_date', 'disclosure_year', 'district', 'owner', 'ptr_link',\n",
      "       'representative', 'ticker', 'transaction_date', 'type'],\n",
      "      dtype='object')\n",
      "(15433, 12)\n"
     ]
    }
   ],
   "source": [
    "print(data.columns)\n",
    "print(data.shape)"
   ]
  },
  {
   "cell_type": "markdown",
   "metadata": {},
   "source": [
    "*Data Transformation and Validation*"
   ]
  },
  {
   "cell_type": "code",
   "execution_count": 57,
   "metadata": {},
   "outputs": [
    {
     "name": "stdout",
     "output_type": "stream",
     "text": [
      "['$1,001 - $15,000' '$15,001 - $50,000' '$100,001 - $250,000'\n",
      " '$50,001 - $100,000' '$500,001 - $1,000,000' '$250,001 - $500,000'\n",
      " '$1,001 -' '$1,000,001 - $5,000,000' '$15,000 - $50,000'\n",
      " '$1,000 - $15,000' '$1,000,000 +' '$1,000,000 - $5,000,000'\n",
      " '$5,000,001 - $25,000,000' '$50,000,000 +']\n"
     ]
    }
   ],
   "source": [
    "#Analyze uniqueness or rows \n",
    "print(data.amount.unique())"
   ]
  },
  {
   "cell_type": "markdown",
   "metadata": {},
   "source": [
    "There is values in the amount column starting with a 1 dollar difference\n",
    "'$1,000 - $15,000' and '$1,001 - $15,000' should be the same value \n",
    "lets fix for the difference across the entire column "
   ]
  },
  {
   "cell_type": "code",
   "execution_count": 58,
   "metadata": {},
   "outputs": [],
   "source": [
    "#Fix amount column\n",
    "for i in range(0,len(data)):\n",
    "    index = data['amount'][i].find('01')\n",
    "    if index != -1:\n",
    "      data['amount'][i] = list(data['amount'][i])\n",
    "      data['amount'][i][index:index+2] = '00'\n",
    "      data['amount'][i] = ''.join(data['amount'][i])"
   ]
  },
  {
   "cell_type": "code",
   "execution_count": 59,
   "metadata": {},
   "outputs": [
    {
     "name": "stdout",
     "output_type": "stream",
     "text": [
      "['$1,000 - $15,000' '$15,000 - $50,000' '$100,000 - $250,000'\n",
      " '$50,000 - $100,000' '$500,000 - $1,000,000' '$250,000 - $500,000'\n",
      " '$1,000 -' '$1,000,000 - $5,000,000' '$1,000,000 +'\n",
      " '$5,000,000 - $25,000,000' '$50,000,000 +']\n",
      "(15433, 12)\n"
     ]
    }
   ],
   "source": [
    "print(data.amount.unique())\n",
    "print(data.shape)"
   ]
  },
  {
   "cell_type": "code",
   "execution_count": 60,
   "metadata": {},
   "outputs": [
    {
     "data": {
      "text/plain": [
       "array(['Garret Graves', 'John Rutherford', 'Dean Phillips',\n",
       "       'John A. Yarmuth', 'Gilbert Cisneros', 'Cindy Axne',\n",
       "       'Richard W. Allen', 'K. Michael Conaway', 'Maria Elvira Salazar',\n",
       "       'Tom Malinowski', 'Earl Blumenauer', 'Donna Shalala',\n",
       "       'Greg Gianforte', 'David B. McKinley', 'Joe Courtney',\n",
       "       'Katherine M. Clark', 'Kevin Hern', 'John Curtis', 'Peter Meijer',\n",
       "       'Rohit Khanna', 'Robert J. Wittman', 'Mikie Sherrill',\n",
       "       'Josh Gottheimer', 'Carol Devine Miller', 'Michael C. Burgess',\n",
       "       'Kim Dr Schrier', 'Bob Gibbs', 'Dwight Evans', 'Adam B. Schiff',\n",
       "       'Zoe Lofgren', 'Marjorie Taylor Greene', 'Debbie Dingell',\n",
       "       'William R. Timmons', 'Kenny Marchant', 'Kathy Manning',\n",
       "       'Daniel Meuser', 'Kurt Schrader', 'Joseph D. Morelle',\n",
       "       'Steve Chabot', 'Christopher L. Jacobs', 'Mark Dr Green',\n",
       "       'Michael T. McCaul', 'Sara Jacobs', 'Donald Sternoff Beyer',\n",
       "       'Lois Frankel', 'Francis Rooney', 'William R. Keating',\n",
       "       'Susie Lee', 'Marie Newman', 'Lloyd K. Smucker',\n",
       "       'Alan S. Lowenthal', 'John B. Larson', 'Mo Brooks',\n",
       "       'David Kustoff', 'Thomas Suozzi', 'Deborah K. Ross',\n",
       "       'Roger W. Marshall', 'Virginia Foxx', 'Brian Mast', 'Peter Welch',\n",
       "       'Donald Sternoff Honorable Beyer', 'Robert C. \"Bobby\" Scott',\n",
       "       'James R. Langevin', 'Scott H. Peters', 'Debbie Wasserman Schultz',\n",
       "       'Victoria Spartz', 'Michael John Gallagher', 'Susan A. Davis',\n",
       "       'Pete Sessions', 'Elaine Luria', 'Blake Moore', 'Ed Perlmutter',\n",
       "       'Ashley Hinson Arenholz', 'Nancy Pelosi', 'Tom Cole',\n",
       "       'Bradley S. Schneider', 'Judy Chu', 'Scott Franklin',\n",
       "       'Earl Leroy Carter', 'Cheri Bustos', 'Ed Case',\n",
       "       'David Cheston Rouzer', 'Harley E. Rouda', 'Anthony E. Gonzalez',\n",
       "       'Patrick Fallon', 'David Madison Cawthorn', 'Daniel Crenshaw',\n",
       "       'Susan W. Brooks', 'Michael Garcia', 'Diana Harshbarger',\n",
       "       'Michael K. Simpson', 'Adam Kinzinger', 'Kathy Castor',\n",
       "       'Fred Upton', 'Aston Donald McEachin',\n",
       "       'Charles J. \"Chuck\" Fleischmann', 'Mark Green', 'James Comer',\n",
       "       'Billy Long', 'Robert B. Aderholt', 'Kim Schrier', 'David Trone',\n",
       "       'Sean Patrick Maloney', 'Suzan K. DelBene', 'Ann Wagner',\n",
       "       'James French Hill', 'Harold Dallas Rogers',\n",
       "       'Michael Patrick Guest', 'George Holding', 'Austin Scott',\n",
       "       'David P. Roe', 'Neal Patrick MD, Facs Dunn', 'Steve Cohen',\n",
       "       'Nicholas Van Taylor', 'Vern Buchanan',\n",
       "       'Neal Patrick MD, FACS Dunn', 'Neal Patrick Dunn MD, FACS',\n",
       "       'August Lee Pfluger', 'Andrew Garbarino', 'Linda T. Sanchez',\n",
       "       'David P. Joyce', 'Michael Waltz', 'Hakeem S. Jeffries',\n",
       "       'John Garamendi', 'David E. Price', 'Mike Kelly',\n",
       "       'Felix Barry Moore', \"Tom O'Halleran\", 'Raúl M. Grijalva',\n",
       "       'Frank Pallone', 'Ron Estes', 'Gerald E. Connolly',\n",
       "       'Lloyd Doggett', 'Peter J. Visclosky', 'Greg Francis Murphy',\n",
       "       'Wm. Lacy Clay', 'Mary Gay Scanlon', 'Dan Newhouse',\n",
       "       'Eleanor Holmes Norton', 'Tim Burchett', 'Larry Bucshon',\n",
       "       'Trey Hollingsworth', 'James Hagedorn', 'Tom Rice',\n",
       "       'Robert E. Latta', 'Carolyn B. Maloney', 'Matt Gaetz',\n",
       "       'Jake Auchincloss', 'Gus M. Bilirakis', 'James E Hon Banks',\n",
       "       'James E. Banks', 'Vicente Gonzalez', 'Sharice Davids',\n",
       "       'Lori Trahan', 'Bill Pascrell', 'Bill Huizenga',\n",
       "       'S. Raja Krishnamoorthi', 'Kenneth R. Buck', 'Bill Flores',\n",
       "       'Doris O. Matsui', 'Abigail Spanberger', 'Grace Meng',\n",
       "       'Joseph P. Kennedy', 'Mario Diaz-Balart', 'TJ John (Tj) Cox',\n",
       "       'Brian Higgins', 'Doug Lamborn', 'Jamie Raskin', 'Seth Moulton',\n",
       "       'Nicholas V. Taylor', 'Patrick T. McHenry',\n",
       "       'Michael Fq San Nicolas', 'Greg Steube', 'W. Greg Steube',\n",
       "       'Thomas Massie', 'Chellie Pingree', 'Brad Sherman', 'Justin Amash',\n",
       "       'Stephanie Bice', 'James M. Costa'], dtype=object)"
      ]
     },
     "execution_count": 60,
     "metadata": {},
     "output_type": "execute_result"
    }
   ],
   "source": [
    "#Modify representative format for easier assimilation to other data sets \n",
    "#Remove Hon. Prefix before representative name \n",
    "for i in range(0,len(data)):\n",
    "    #grab last part of prefix split (First and Last Name )\n",
    "    first_last_name = data['representative'][i].split(\" \")[1:]\n",
    "    data['representative'][i] = ' '.join(first_last_name)\n",
    "data['representative'].unique()"
   ]
  },
  {
   "cell_type": "code",
   "execution_count": 61,
   "metadata": {},
   "outputs": [
    {
     "name": "stdout",
     "output_type": "stream",
     "text": [
      "(9523, 12)\n"
     ]
    }
   ],
   "source": [
    "#Delete rows with incomplete data \n",
    "data = data.dropna()\n",
    "print(data.shape)"
   ]
  },
  {
   "cell_type": "code",
   "execution_count": 62,
   "metadata": {},
   "outputs": [
    {
     "data": {
      "text/plain": [
       "array(['CA39', 'IA03', 'GA12', 'OR03', 'FL27', 'MT00', 'WV01', 'CT02',\n",
       "       'MA05', 'OK01', 'CA17', 'NJ05', 'WV03', 'WA08', 'VA01', 'CA19',\n",
       "       'GA14', 'MI12', 'SC04', 'TX24', 'PA09', 'NY25', 'NC06', 'TN07',\n",
       "       'TX10', 'VA08', 'FL21', 'NV03', 'UT03', 'IL03', 'CA47', 'AL05',\n",
       "       'NC02', 'KS01', 'NC05', 'MN03', 'KY03', 'CA52', 'WI08', 'CA53',\n",
       "       'PA03', 'TX32', 'VA02', 'CO07', 'IA01', 'RI02', 'CA12', 'OK04',\n",
       "       'IL10', 'NY27', 'FL15', 'IL17', 'NC07', 'CA48', 'IN05', 'TN01',\n",
       "       'IL16', 'FL14', 'TX11', 'VA04', 'TX17', 'CA28', 'MD06', 'WA01',\n",
       "       'MO02', 'FL04', 'AR02', 'MS03', 'TN08', 'GA08', 'TN09', 'GA01',\n",
       "       'TX03', 'FL02', 'CA38', 'FL18', 'NY08', 'CA03', 'MI06', 'PA16',\n",
       "       'AZ01', 'AZ03', 'NJ06', 'FL16', 'VA11', 'TX35', 'IN01', 'VT00',\n",
       "       'TN03', 'PA05', 'FL23', 'OH07', 'OH05', 'NY12', 'ID02', 'FL12',\n",
       "       'IN03', 'MA03', 'SC07', 'NJ09', 'NC04', 'KS04', 'CA06', 'VA07',\n",
       "       'NY06', 'OH16', 'MA04', 'FL25', 'DC00', 'CO05', 'MD08', 'MA06',\n",
       "       'TX26', 'FL17', 'KY01', 'KY04', 'NJ11', 'ME01', 'MI03', 'OK05'],\n",
       "      dtype=object)"
      ]
     },
     "execution_count": 62,
     "metadata": {},
     "output_type": "execute_result"
    }
   ],
   "source": [
    "#Analysis distric, representative, and type \n",
    "data.district.unique()"
   ]
  },
  {
   "cell_type": "code",
   "execution_count": 63,
   "metadata": {},
   "outputs": [
    {
     "data": {
      "text/plain": [
       "array(['Gilbert Cisneros', 'Cindy Axne', 'Richard W. Allen',\n",
       "       'Earl Blumenauer', 'Donna Shalala', 'Greg Gianforte',\n",
       "       'David B. McKinley', 'Joe Courtney', 'Katherine M. Clark',\n",
       "       'Kevin Hern', 'Rohit Khanna', 'Josh Gottheimer',\n",
       "       'Carol Devine Miller', 'Kim Dr Schrier', 'Robert J. Wittman',\n",
       "       'Zoe Lofgren', 'Marjorie Taylor Greene', 'Debbie Dingell',\n",
       "       'William R. Timmons', 'Kenny Marchant', 'Daniel Meuser',\n",
       "       'Joseph D. Morelle', 'Kathy Manning', 'Mark Dr Green',\n",
       "       'Michael T. McCaul', 'Donald Sternoff Beyer', 'Lois Frankel',\n",
       "       'Susie Lee', 'John Curtis', 'Marie Newman', 'Alan S. Lowenthal',\n",
       "       'Mo Brooks', 'Deborah K. Ross', 'Roger W. Marshall',\n",
       "       'Virginia Foxx', 'Dean Phillips',\n",
       "       'Donald Sternoff Honorable Beyer', 'John A. Yarmuth',\n",
       "       'Scott H. Peters', 'Michael John Gallagher', 'Susan A. Davis',\n",
       "       'Dwight Evans', 'Pete Sessions', 'Elaine Luria', 'Ed Perlmutter',\n",
       "       'Ashley Hinson Arenholz', 'James R. Langevin', 'Nancy Pelosi',\n",
       "       'Tom Cole', 'Bradley S. Schneider', 'Christopher L. Jacobs',\n",
       "       'Scott Franklin', 'Cheri Bustos', 'David Cheston Rouzer',\n",
       "       'Harley E. Rouda', 'Susan W. Brooks', 'Diana Harshbarger',\n",
       "       'Adam Kinzinger', 'Kathy Castor', 'K. Michael Conaway',\n",
       "       'Aston Donald McEachin', 'Mark Green', 'Adam B. Schiff',\n",
       "       'Kim Schrier', 'David Trone', 'Suzan K. DelBene', 'Ann Wagner',\n",
       "       'John Rutherford', 'James French Hill', 'Michael Patrick Guest',\n",
       "       'David Kustoff', 'Austin Scott', 'Steve Cohen',\n",
       "       'Earl Leroy Carter', 'Nicholas Van Taylor',\n",
       "       'Neal Patrick MD, Facs Dunn', 'Neal Patrick MD, FACS Dunn',\n",
       "       'Neal Patrick Dunn MD, FACS', 'August Lee Pfluger',\n",
       "       'Linda T. Sanchez', 'Brian Mast', 'Hakeem S. Jeffries',\n",
       "       'John Garamendi', 'Fred Upton', 'Mike Kelly', \"Tom O'Halleran\",\n",
       "       'Raúl M. Grijalva', 'Frank Pallone', 'Vern Buchanan',\n",
       "       'Gerald E. Connolly', 'Lloyd Doggett', 'Peter J. Visclosky',\n",
       "       'Peter Welch', 'Charles J. \"Chuck\" Fleischmann',\n",
       "       'Mary Gay Scanlon', 'Debbie Wasserman Schultz', 'Bob Gibbs',\n",
       "       'Robert E. Latta', 'Carolyn B. Maloney', 'Michael K. Simpson',\n",
       "       'Gus M. Bilirakis', 'James E. Banks', 'Lori Trahan', 'Tom Rice',\n",
       "       'Bill Pascrell', 'David E. Price', 'Ron Estes', 'Doris O. Matsui',\n",
       "       'James E Hon Banks', 'Abigail Spanberger', 'Grace Meng',\n",
       "       'Anthony E. Gonzalez', 'Joseph P. Kennedy', 'Mario Diaz-Balart',\n",
       "       'Eleanor Holmes Norton', 'Doug Lamborn', 'Jamie Raskin',\n",
       "       'Seth Moulton', 'Victoria Spartz', 'Michael C. Burgess',\n",
       "       'Greg Steube', 'W. Greg Steube', 'James Comer', 'Thomas Massie',\n",
       "       'Mikie Sherrill', 'Chellie Pingree', 'Justin Amash',\n",
       "       'Stephanie Bice'], dtype=object)"
      ]
     },
     "execution_count": 63,
     "metadata": {},
     "output_type": "execute_result"
    }
   ],
   "source": [
    "data.representative.unique()"
   ]
  },
  {
   "cell_type": "code",
   "execution_count": 64,
   "metadata": {},
   "outputs": [
    {
     "data": {
      "text/plain": [
       "array(['sale_full', 'purchase', 'sale_partial', 'exchange', 'sale'],\n",
       "      dtype=object)"
      ]
     },
     "execution_count": 64,
     "metadata": {},
     "output_type": "execute_result"
    }
   ],
   "source": [
    "data.type.unique()"
   ]
  },
  {
   "cell_type": "code",
   "execution_count": 65,
   "metadata": {},
   "outputs": [
    {
     "name": "stdout",
     "output_type": "stream",
     "text": [
      "(9523, 12)\n"
     ]
    }
   ],
   "source": [
    "#Check for duplicate rows \n",
    "data.drop_duplicates()\n",
    "print(data.shape)"
   ]
  },
  {
   "cell_type": "markdown",
   "metadata": {},
   "source": [
    "*Analysis and Visualization*"
   ]
  },
  {
   "cell_type": "code",
   "execution_count": 66,
   "metadata": {},
   "outputs": [],
   "source": [
    "data.to_csv(\".\\Cleaned_House_Stock_US.csv\",index=False)"
   ]
  },
  {
   "cell_type": "markdown",
   "metadata": {},
   "source": [
    "Now having cleaned this dataset I would continue my analysis on Tableu Public.\n",
    "\n",
    "I will search for a dataset of the political parties of each representative to compare Republican and Democratic Investments. \n",
    "\n",
    "https://en.wikipedia.org/wiki/List_of_current_members_of_the_United_States_House_of_Representatives\n",
    "\n",
    "However, this list only contains current representatives; for my dataset to be complete I would have to limit my dataset to last two years of office 2021-2022\n",
    "\n",
    "Before proceeding I would clean up this data set as well prior to analysis.\n"
   ]
  },
  {
   "cell_type": "markdown",
   "metadata": {},
   "source": [
    "**List of Current USA House Representatives**"
   ]
  },
  {
   "cell_type": "code",
   "execution_count": 67,
   "metadata": {},
   "outputs": [
    {
     "data": {
      "text/html": [
       "<div>\n",
       "<style scoped>\n",
       "    .dataframe tbody tr th:only-of-type {\n",
       "        vertical-align: middle;\n",
       "    }\n",
       "\n",
       "    .dataframe tbody tr th {\n",
       "        vertical-align: top;\n",
       "    }\n",
       "\n",
       "    .dataframe thead th {\n",
       "        text-align: right;\n",
       "    }\n",
       "</style>\n",
       "<table border=\"1\" class=\"dataframe\">\n",
       "  <thead>\n",
       "    <tr style=\"text-align: right;\">\n",
       "      <th></th>\n",
       "      <th>District</th>\n",
       "      <th>Member</th>\n",
       "      <th>Party</th>\n",
       "      <th>Prior experience</th>\n",
       "      <th>Education</th>\n",
       "      <th>Assumed office</th>\n",
       "      <th>Residence</th>\n",
       "      <th>Born[2]</th>\n",
       "    </tr>\n",
       "  </thead>\n",
       "  <tbody>\n",
       "    <tr>\n",
       "      <th>0</th>\n",
       "      <td>Alabama 1</td>\n",
       "      <td>Jerry Carl</td>\n",
       "      <td>Republican</td>\n",
       "      <td>Mobile County Commission</td>\n",
       "      <td>Florida Gateway College</td>\n",
       "      <td>2021</td>\n",
       "      <td>Mobile</td>\n",
       "      <td>June 17, 1958(age 64)</td>\n",
       "    </tr>\n",
       "    <tr>\n",
       "      <th>1</th>\n",
       "      <td>Alabama 2</td>\n",
       "      <td>Barry Moore</td>\n",
       "      <td>Republican</td>\n",
       "      <td>Alabama House of Representatives</td>\n",
       "      <td>Enterprise State Community College (AS)\\r\\nAub...</td>\n",
       "      <td>2021</td>\n",
       "      <td>Enterprise</td>\n",
       "      <td>September 26, 1966(age 56)</td>\n",
       "    </tr>\n",
       "    <tr>\n",
       "      <th>2</th>\n",
       "      <td>Alabama 3</td>\n",
       "      <td>Mike Rogers</td>\n",
       "      <td>Republican</td>\n",
       "      <td>Calhoun County Commissioner\\r\\nAlabama House o...</td>\n",
       "      <td>Jacksonville State University (BA, MPA)\\r\\nBir...</td>\n",
       "      <td>2003</td>\n",
       "      <td>Anniston</td>\n",
       "      <td>July 16, 1958(age 64)</td>\n",
       "    </tr>\n",
       "    <tr>\n",
       "      <th>3</th>\n",
       "      <td>Alabama 4</td>\n",
       "      <td>Robert Aderholt</td>\n",
       "      <td>Republican</td>\n",
       "      <td>Haleyville Municipal Judge</td>\n",
       "      <td>University of North Alabama\\r\\nBirmingham–Sout...</td>\n",
       "      <td>1997</td>\n",
       "      <td>Haleyville</td>\n",
       "      <td>July 22, 1965(age 57)</td>\n",
       "    </tr>\n",
       "    <tr>\n",
       "      <th>4</th>\n",
       "      <td>Alabama 5</td>\n",
       "      <td>Mo Brooks</td>\n",
       "      <td>Republican</td>\n",
       "      <td>Alabama House of Representatives\\r\\nMadison Co...</td>\n",
       "      <td>Duke University (BA)\\r\\nUniversity of Alabama ...</td>\n",
       "      <td>2011</td>\n",
       "      <td>Huntsville</td>\n",
       "      <td>April 29, 1954(age 68)</td>\n",
       "    </tr>\n",
       "  </tbody>\n",
       "</table>\n",
       "</div>"
      ],
      "text/plain": [
       "    District           Member       Party  \\\n",
       "0  Alabama 1       Jerry Carl  Republican   \n",
       "1  Alabama 2      Barry Moore  Republican   \n",
       "2  Alabama 3      Mike Rogers  Republican   \n",
       "3  Alabama 4  Robert Aderholt  Republican   \n",
       "4  Alabama 5        Mo Brooks  Republican   \n",
       "\n",
       "                                    Prior experience  \\\n",
       "0                           Mobile County Commission   \n",
       "1                   Alabama House of Representatives   \n",
       "2  Calhoun County Commissioner\\r\\nAlabama House o...   \n",
       "3                         Haleyville Municipal Judge   \n",
       "4  Alabama House of Representatives\\r\\nMadison Co...   \n",
       "\n",
       "                                           Education Assumed office  \\\n",
       "0                            Florida Gateway College           2021   \n",
       "1  Enterprise State Community College (AS)\\r\\nAub...           2021   \n",
       "2  Jacksonville State University (BA, MPA)\\r\\nBir...           2003   \n",
       "3  University of North Alabama\\r\\nBirmingham–Sout...           1997   \n",
       "4  Duke University (BA)\\r\\nUniversity of Alabama ...           2011   \n",
       "\n",
       "    Residence                     Born[2]  \n",
       "0      Mobile       June 17, 1958(age 64)  \n",
       "1  Enterprise  September 26, 1966(age 56)  \n",
       "2    Anniston       July 16, 1958(age 64)  \n",
       "3  Haleyville       July 22, 1965(age 57)  \n",
       "4  Huntsville      April 29, 1954(age 68)  "
      ]
     },
     "execution_count": 67,
     "metadata": {},
     "output_type": "execute_result"
    }
   ],
   "source": [
    "reps = pd.read_csv(\"List_of_Representatives.csv\")\n",
    "reps.head()\n"
   ]
  },
  {
   "cell_type": "markdown",
   "metadata": {},
   "source": [
    "We are only interested in the representatives' political party, District, and age. "
   ]
  },
  {
   "cell_type": "code",
   "execution_count": 68,
   "metadata": {},
   "outputs": [
    {
     "data": {
      "text/plain": [
       "array(['Alabama', 'Alaska', 'Arizona', 'Arkansas', 'California',\n",
       "       'Colorado', 'Connecticut', 'Delaware', 'Florida', 'Georgia',\n",
       "       'Hawaii', 'Idaho', 'Illinois', 'Indiana', 'Iowa', 'Kansas',\n",
       "       'Kentucky', 'Louisiana', 'Maine', 'Maryland', 'Massachusetts',\n",
       "       'Michigan', 'Minnesota', 'Mississippi', 'Missouri', 'Montana',\n",
       "       'Nebraska', 'Nevada', 'New Hampshire', 'New Jersey', 'New Mexico',\n",
       "       'New York', 'North Carolina', 'North Dakota', 'Ohio', 'Oklahoma',\n",
       "       'Oregon', 'Pennsylvania', 'Rhode Island', 'South Carolina',\n",
       "       'South Dakota', 'Tennessee', 'Texas', 'Utah', 'Vermont',\n",
       "       'Virginia', 'Washington', 'West Virginia', 'Wisconsin', 'Wyoming'],\n",
       "      dtype=object)"
      ]
     },
     "execution_count": 68,
     "metadata": {},
     "output_type": "execute_result"
    }
   ],
   "source": [
    "#Fix district column \n",
    "for i in range(0,len(reps)):\n",
    "    reps['District'][i] = reps['District'][i].split(\"\\xa0\")[0]\n",
    "reps.District.unique()"
   ]
  },
  {
   "cell_type": "code",
   "execution_count": 69,
   "metadata": {},
   "outputs": [
    {
     "data": {
      "text/html": [
       "<div>\n",
       "<style scoped>\n",
       "    .dataframe tbody tr th:only-of-type {\n",
       "        vertical-align: middle;\n",
       "    }\n",
       "\n",
       "    .dataframe tbody tr th {\n",
       "        vertical-align: top;\n",
       "    }\n",
       "\n",
       "    .dataframe thead th {\n",
       "        text-align: right;\n",
       "    }\n",
       "</style>\n",
       "<table border=\"1\" class=\"dataframe\">\n",
       "  <thead>\n",
       "    <tr style=\"text-align: right;\">\n",
       "      <th></th>\n",
       "      <th>District</th>\n",
       "      <th>Member</th>\n",
       "      <th>Party</th>\n",
       "      <th>Prior experience</th>\n",
       "      <th>Education</th>\n",
       "      <th>Assumed office</th>\n",
       "      <th>Residence</th>\n",
       "      <th>Birth_date</th>\n",
       "    </tr>\n",
       "  </thead>\n",
       "  <tbody>\n",
       "    <tr>\n",
       "      <th>0</th>\n",
       "      <td>Alabama</td>\n",
       "      <td>Jerry Carl</td>\n",
       "      <td>Republican</td>\n",
       "      <td>Mobile County Commission</td>\n",
       "      <td>Florida Gateway College</td>\n",
       "      <td>2021</td>\n",
       "      <td>Mobile</td>\n",
       "      <td>June 17, 1958(age 64)</td>\n",
       "    </tr>\n",
       "    <tr>\n",
       "      <th>1</th>\n",
       "      <td>Alabama</td>\n",
       "      <td>Barry Moore</td>\n",
       "      <td>Republican</td>\n",
       "      <td>Alabama House of Representatives</td>\n",
       "      <td>Enterprise State Community College (AS)\\r\\nAub...</td>\n",
       "      <td>2021</td>\n",
       "      <td>Enterprise</td>\n",
       "      <td>September 26, 1966(age 56)</td>\n",
       "    </tr>\n",
       "    <tr>\n",
       "      <th>2</th>\n",
       "      <td>Alabama</td>\n",
       "      <td>Mike Rogers</td>\n",
       "      <td>Republican</td>\n",
       "      <td>Calhoun County Commissioner\\r\\nAlabama House o...</td>\n",
       "      <td>Jacksonville State University (BA, MPA)\\r\\nBir...</td>\n",
       "      <td>2003</td>\n",
       "      <td>Anniston</td>\n",
       "      <td>July 16, 1958(age 64)</td>\n",
       "    </tr>\n",
       "    <tr>\n",
       "      <th>3</th>\n",
       "      <td>Alabama</td>\n",
       "      <td>Robert Aderholt</td>\n",
       "      <td>Republican</td>\n",
       "      <td>Haleyville Municipal Judge</td>\n",
       "      <td>University of North Alabama\\r\\nBirmingham–Sout...</td>\n",
       "      <td>1997</td>\n",
       "      <td>Haleyville</td>\n",
       "      <td>July 22, 1965(age 57)</td>\n",
       "    </tr>\n",
       "    <tr>\n",
       "      <th>4</th>\n",
       "      <td>Alabama</td>\n",
       "      <td>Mo Brooks</td>\n",
       "      <td>Republican</td>\n",
       "      <td>Alabama House of Representatives\\r\\nMadison Co...</td>\n",
       "      <td>Duke University (BA)\\r\\nUniversity of Alabama ...</td>\n",
       "      <td>2011</td>\n",
       "      <td>Huntsville</td>\n",
       "      <td>April 29, 1954(age 68)</td>\n",
       "    </tr>\n",
       "  </tbody>\n",
       "</table>\n",
       "</div>"
      ],
      "text/plain": [
       "  District           Member       Party  \\\n",
       "0  Alabama       Jerry Carl  Republican   \n",
       "1  Alabama      Barry Moore  Republican   \n",
       "2  Alabama      Mike Rogers  Republican   \n",
       "3  Alabama  Robert Aderholt  Republican   \n",
       "4  Alabama        Mo Brooks  Republican   \n",
       "\n",
       "                                    Prior experience  \\\n",
       "0                           Mobile County Commission   \n",
       "1                   Alabama House of Representatives   \n",
       "2  Calhoun County Commissioner\\r\\nAlabama House o...   \n",
       "3                         Haleyville Municipal Judge   \n",
       "4  Alabama House of Representatives\\r\\nMadison Co...   \n",
       "\n",
       "                                           Education Assumed office  \\\n",
       "0                            Florida Gateway College           2021   \n",
       "1  Enterprise State Community College (AS)\\r\\nAub...           2021   \n",
       "2  Jacksonville State University (BA, MPA)\\r\\nBir...           2003   \n",
       "3  University of North Alabama\\r\\nBirmingham–Sout...           1997   \n",
       "4  Duke University (BA)\\r\\nUniversity of Alabama ...           2011   \n",
       "\n",
       "    Residence                  Birth_date  \n",
       "0      Mobile       June 17, 1958(age 64)  \n",
       "1  Enterprise  September 26, 1966(age 56)  \n",
       "2    Anniston       July 16, 1958(age 64)  \n",
       "3  Haleyville       July 22, 1965(age 57)  \n",
       "4  Huntsville      April 29, 1954(age 68)  "
      ]
     },
     "execution_count": 69,
     "metadata": {},
     "output_type": "execute_result"
    }
   ],
   "source": [
    "#rename Born[2] column \n",
    "reps.rename(columns = {'Born[2]':'Birth_date'}, inplace = True)\n",
    "reps.head()"
   ]
  },
  {
   "cell_type": "code",
   "execution_count": 70,
   "metadata": {},
   "outputs": [
    {
     "data": {
      "text/plain": [
       "array(['64', '56', '57', '68', '49', '76', '72', '74', '63', '60', '42',\n",
       "       '52', '65', '54', '62', '58', '77', '66', '71', '78', '36', '70',\n",
       "       '82', '41', '46', '79', '45', '69', '59', '67', '43', '85', '53',\n",
       "       '47', '50', '81', '61', '84', '48', '33', '38', '35', '40', '34',\n",
       "       '44', '73', '55', '75', '39', '51', '83', '37', '32', '27', '86',\n",
       "       '80'], dtype=object)"
      ]
     },
     "execution_count": 70,
     "metadata": {},
     "output_type": "execute_result"
    }
   ],
   "source": [
    "#Create Age column from Born[2] column \n",
    "for i in range(0,len(reps)):\n",
    "    if reps['Birth_date'][i] != 'VACANT':\n",
    "        tmp = reps['Birth_date'][i].split(\"(\")\n",
    "        tmp = str(tmp[1]).split(\"\\xa0\")[1][:-1]\n",
    "        reps['Birth_date'][i] = tmp\n",
    "    else:\n",
    "        #drop row since house position currently VANCANT \n",
    "        reps = reps.drop(i)\n",
    "reps.Birth_date.unique()"
   ]
  },
  {
   "cell_type": "code",
   "execution_count": 71,
   "metadata": {},
   "outputs": [
    {
     "data": {
      "text/html": [
       "<div>\n",
       "<style scoped>\n",
       "    .dataframe tbody tr th:only-of-type {\n",
       "        vertical-align: middle;\n",
       "    }\n",
       "\n",
       "    .dataframe tbody tr th {\n",
       "        vertical-align: top;\n",
       "    }\n",
       "\n",
       "    .dataframe thead th {\n",
       "        text-align: right;\n",
       "    }\n",
       "</style>\n",
       "<table border=\"1\" class=\"dataframe\">\n",
       "  <thead>\n",
       "    <tr style=\"text-align: right;\">\n",
       "      <th></th>\n",
       "      <th>District</th>\n",
       "      <th>Member</th>\n",
       "      <th>Party</th>\n",
       "      <th>Prior experience</th>\n",
       "      <th>Education</th>\n",
       "      <th>Assumed office</th>\n",
       "      <th>Residence</th>\n",
       "      <th>Birth_date</th>\n",
       "    </tr>\n",
       "  </thead>\n",
       "  <tbody>\n",
       "    <tr>\n",
       "      <th>0</th>\n",
       "      <td>Alabama</td>\n",
       "      <td>Jerry Carl</td>\n",
       "      <td>Republican</td>\n",
       "      <td>Mobile County Commission</td>\n",
       "      <td>Florida Gateway College</td>\n",
       "      <td>2021</td>\n",
       "      <td>Mobile</td>\n",
       "      <td>64</td>\n",
       "    </tr>\n",
       "    <tr>\n",
       "      <th>1</th>\n",
       "      <td>Alabama</td>\n",
       "      <td>Barry Moore</td>\n",
       "      <td>Republican</td>\n",
       "      <td>Alabama House of Representatives</td>\n",
       "      <td>Enterprise State Community College (AS)\\r\\nAub...</td>\n",
       "      <td>2021</td>\n",
       "      <td>Enterprise</td>\n",
       "      <td>56</td>\n",
       "    </tr>\n",
       "    <tr>\n",
       "      <th>2</th>\n",
       "      <td>Alabama</td>\n",
       "      <td>Mike Rogers</td>\n",
       "      <td>Republican</td>\n",
       "      <td>Calhoun County Commissioner\\r\\nAlabama House o...</td>\n",
       "      <td>Jacksonville State University (BA, MPA)\\r\\nBir...</td>\n",
       "      <td>2003</td>\n",
       "      <td>Anniston</td>\n",
       "      <td>64</td>\n",
       "    </tr>\n",
       "    <tr>\n",
       "      <th>3</th>\n",
       "      <td>Alabama</td>\n",
       "      <td>Robert Aderholt</td>\n",
       "      <td>Republican</td>\n",
       "      <td>Haleyville Municipal Judge</td>\n",
       "      <td>University of North Alabama\\r\\nBirmingham–Sout...</td>\n",
       "      <td>1997</td>\n",
       "      <td>Haleyville</td>\n",
       "      <td>57</td>\n",
       "    </tr>\n",
       "    <tr>\n",
       "      <th>4</th>\n",
       "      <td>Alabama</td>\n",
       "      <td>Mo Brooks</td>\n",
       "      <td>Republican</td>\n",
       "      <td>Alabama House of Representatives\\r\\nMadison Co...</td>\n",
       "      <td>Duke University (BA)\\r\\nUniversity of Alabama ...</td>\n",
       "      <td>2011</td>\n",
       "      <td>Huntsville</td>\n",
       "      <td>68</td>\n",
       "    </tr>\n",
       "  </tbody>\n",
       "</table>\n",
       "</div>"
      ],
      "text/plain": [
       "  District           Member       Party  \\\n",
       "0  Alabama       Jerry Carl  Republican   \n",
       "1  Alabama      Barry Moore  Republican   \n",
       "2  Alabama      Mike Rogers  Republican   \n",
       "3  Alabama  Robert Aderholt  Republican   \n",
       "4  Alabama        Mo Brooks  Republican   \n",
       "\n",
       "                                    Prior experience  \\\n",
       "0                           Mobile County Commission   \n",
       "1                   Alabama House of Representatives   \n",
       "2  Calhoun County Commissioner\\r\\nAlabama House o...   \n",
       "3                         Haleyville Municipal Judge   \n",
       "4  Alabama House of Representatives\\r\\nMadison Co...   \n",
       "\n",
       "                                           Education Assumed office  \\\n",
       "0                            Florida Gateway College           2021   \n",
       "1  Enterprise State Community College (AS)\\r\\nAub...           2021   \n",
       "2  Jacksonville State University (BA, MPA)\\r\\nBir...           2003   \n",
       "3  University of North Alabama\\r\\nBirmingham–Sout...           1997   \n",
       "4  Duke University (BA)\\r\\nUniversity of Alabama ...           2011   \n",
       "\n",
       "    Residence Birth_date  \n",
       "0      Mobile         64  \n",
       "1  Enterprise         56  \n",
       "2    Anniston         64  \n",
       "3  Haleyville         57  \n",
       "4  Huntsville         68  "
      ]
     },
     "execution_count": 71,
     "metadata": {},
     "output_type": "execute_result"
    }
   ],
   "source": [
    "reps.head()"
   ]
  },
  {
   "cell_type": "code",
   "execution_count": 72,
   "metadata": {},
   "outputs": [],
   "source": [
    "#Save complementary data set \n",
    "reps.to_csv(\".\\Cleaned_List_of_Representatives.csv\")"
   ]
  },
  {
   "cell_type": "markdown",
   "metadata": {},
   "source": [
    "Now having cleaned this dataset I would continue my analysis on Tableu Public."
   ]
  }
 ],
 "metadata": {
  "kernelspec": {
   "display_name": "Python 3.10.7 64-bit (microsoft store)",
   "language": "python",
   "name": "python3"
  },
  "language_info": {
   "codemirror_mode": {
    "name": "ipython",
    "version": 3
   },
   "file_extension": ".py",
   "mimetype": "text/x-python",
   "name": "python",
   "nbconvert_exporter": "python",
   "pygments_lexer": "ipython3",
   "version": "3.10.7"
  },
  "orig_nbformat": 4,
  "vscode": {
   "interpreter": {
    "hash": "2c83a459cc713b64631083cd8aa94ac3800cb0397c90c277d506e7dd44fe3a0a"
   }
  }
 },
 "nbformat": 4,
 "nbformat_minor": 2
}
